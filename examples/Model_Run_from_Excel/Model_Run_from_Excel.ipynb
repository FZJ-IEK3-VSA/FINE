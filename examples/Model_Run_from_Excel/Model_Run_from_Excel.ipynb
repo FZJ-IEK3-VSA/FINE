{
 "cells": [
  {
   "cell_type": "markdown",
   "metadata": {},
   "source": [
    "# Using Excel for parameter input and model runs\n",
    "\n",
    "Besides using a python script or a jupyter notebook it is also possible to read and run a model using excel files.\n",
    "\n",
    "The energySystemModelRunFromExcel() function reads a model from excel, optimizes it and stores it to an excel file.\n",
    "\n",
    "The readEnergySystemModelFromExcel() function reads a model from excel.\n",
    "\n",
    "The model run can also be started on double-klicking on the run.bat Windows batch script in the folder where this notebook is located (still requires that a Python version, the FINE package and an optmization solver are installed).\n",
    "\n",
    "Moreover, it is possible to run the model inside the Excel file with a VBA Macro (see scenarioInputWithMacro.xlsx)"
   ]
  },
  {
   "cell_type": "markdown",
   "metadata": {},
   "source": [
    "# Import FINE package\n"
   ]
  },
  {
   "cell_type": "code",
   "execution_count": 1,
   "metadata": {},
   "outputs": [],
   "source": [
    "import FINE as fn \n",
    "%load_ext autoreload\n",
    "%autoreload 2"
   ]
  },
  {
   "cell_type": "markdown",
   "metadata": {},
   "source": [
    "# Call energySystemModelRunFromExcel function"
   ]
  },
  {
   "cell_type": "markdown",
   "metadata": {},
   "source": [
    "### Read model from excel file, optimize and store to excel file\n",
    "Checkout the output excel file in the folder where this notebook is located"
   ]
  },
  {
   "cell_type": "code",
   "execution_count": 2,
   "metadata": {
    "tags": [
     "nbval-skip"
    ]
   },
   "outputs": [
    {
     "name": "stdout",
     "output_type": "stream",
     "text": [
      "The distances of a component are set to a normalized value of 1.\n",
      "\n",
      "Clustering time series data with 3 typical periods and 24 time steps per period...\n"
     ]
    },
    {
     "name": "stderr",
     "output_type": "stream",
     "text": [
      " C:\\Users\\s.patil\\Anaconda3\\envs\\europeanmodel\\lib\\site-packages\\tsam\\timeseriesaggregation.py:982: UserWarning:Something went wrong: At least one maximal value of the aggregated time series exceeds the maximal value the input time series\n"
     ]
    },
    {
     "name": "stdout",
     "output_type": "stream",
     "text": [
      "\t\t(2.6636 sec)\n",
      "\n",
      "Time series aggregation specifications:\n",
      "Number of typical periods:3, number of time steps per period:24\n",
      "\n",
      "Declaring sets, variables and constraints for SourceSinkModel\n",
      "\tdeclaring sets... \n",
      "\tdeclaring variables... \n",
      "\tdeclaring constraints... \n",
      "\t\t(0.5242 sec)\n",
      "\n",
      "Declaring sets, variables and constraints for StorageModel\n",
      "\tdeclaring sets... \n",
      "\tdeclaring variables... \n",
      "\tdeclaring constraints... \n",
      "\t\t(3.7053 sec)\n",
      "\n",
      "Declaring sets, variables and constraints for ConversionModel\n",
      "\tdeclaring sets... \n",
      "\tdeclaring variables... \n",
      "\tdeclaring constraints... \n",
      "\t\t(0.3695 sec)\n",
      "\n",
      "Declaring sets, variables and constraints for TransmissionModel\n",
      "\tdeclaring sets... \n",
      "\tdeclaring variables... \n",
      "\tdeclaring constraints... \n",
      "\t\t(0.3431 sec)\n",
      "\n",
      "Declaring shared potential constraint...\n",
      "\t\t(0.0000 sec)\n",
      "\n",
      "Declaring linked component quantity constraint...\n",
      "\t\t(0.0000 sec)\n",
      "\n",
      "Declaring commodity balances...\n",
      "\t\t(0.6251 sec)\n",
      "\n",
      "\t\t(0.0000 sec)\n",
      "\n",
      "Declaring objective function...\n",
      "\t\t(0.2853 sec)\n",
      "\n",
      "Either solver not selected or specified solver not available.gurobi is set as solver.\n",
      "Using license file C:\\Users\\s.patil\\gurobi.lic\n",
      "Academic license - for non-commercial use only\n",
      "Read LP format model from file C:\\Users\\S9CFE~1.PAT\\AppData\\Local\\Temp\\tmpk6y5w27n.pyomo.lp\n",
      "Reading time = 0.45 seconds\n",
      "x43032: 50111 rows, 27264 columns, 147376 nonzeros\n",
      "Changed value of parameter QCPDual to 1\n",
      "   Prev: 0  Min: 0  Max: 1  Default: 0\n",
      "Changed value of parameter Threads to 3\n",
      "   Prev: 0  Min: 0  Max: 1024  Default: 0\n",
      "Parameter logfile unchanged\n",
      "   Value:   Default: \n",
      "Gurobi Optimizer version 9.0.1 build v9.0.1rc0 (win64)\n",
      "Optimize a model with 50111 rows, 27264 columns and 147376 nonzeros\n",
      "Model fingerprint: 0xdaa6fb84\n",
      "Variable types: 27226 continuous, 38 integer (28 binary)\n",
      "Coefficient statistics:\n",
      "  Matrix range     [1e-06, 5e+02]\n",
      "  Objective range  [2e-06, 3e-01]\n",
      "  Bounds range     [1e+00, 6e+04]\n",
      "  RHS range        [4e-02, 5e+01]\n",
      "Presolve removed 13620 rows and 10101 columns\n",
      "Presolve time: 0.55s\n",
      "Presolved: 36491 rows, 17163 columns, 119873 nonzeros\n",
      "Variable types: 17139 continuous, 24 integer (14 binary)\n",
      "\n",
      "Deterministic concurrent LP optimizer: primal and dual simplex\n",
      "Showing first log only...\n",
      "\n",
      "\n",
      "Root simplex log...\n",
      "\n",
      "Iteration    Objective       Primal Inf.    Dual Inf.      Time\n",
      "   19897    8.2760230e+01   0.000000e+00   9.850258e+04      5s\n",
      "   24235    5.3958254e+01   0.000000e+00   2.164024e+03     10s\n",
      "   27309    4.8164413e+01   0.000000e+00   9.734999e+03     15s\n",
      "   31037    4.5972621e+01   0.000000e+00   1.419317e+03     20s\n",
      "   34714    4.5115441e+01   0.000000e+00   1.816553e+03     25s\n",
      "   38775    4.4786630e+01   0.000000e+00   1.608113e-01     30s\n",
      "   39938    4.4785639e+01   0.000000e+00   0.000000e+00     31s\n",
      "   39938    4.4785639e+01   0.000000e+00   0.000000e+00     31s\n",
      "Concurrent spin time: 6.70s\n",
      "\n",
      "Solved with primal simplex\n",
      "\n",
      "Root relaxation: objective 4.478564e+01, 39938 iterations, 37.38 seconds\n",
      "\n",
      "    Nodes    |    Current Node    |     Objective Bounds      |     Work\n",
      " Expl Unexpl |  Obj  Depth IntInf | Incumbent    BestBd   Gap | It/Node Time\n",
      "\n",
      "     0     0   44.78564    0   14          -   44.78564      -     -   38s\n",
      "H    0     0                      45.5283079   44.78564  1.63%     -   40s\n",
      "     0     0   44.78579    0    9   45.52831   44.78579  1.63%     -   44s\n",
      "H    0     0                      44.7862290   44.78579  0.00%     -   44s\n",
      "\n",
      "Cutting planes:\n",
      "  Gomory: 4\n",
      "  MIR: 25\n",
      "  Flow cover: 718\n",
      "  Relax-and-lift: 8\n",
      "\n",
      "Explored 1 nodes (40936 simplex iterations) in 45.03 seconds\n",
      "Thread count was 3 (of 8 available processors)\n",
      "\n",
      "Solution count 2: 44.7862 45.5283 \n",
      "\n",
      "Optimal solution found (tolerance 1.00e-04)\n",
      "Warning: max constraint violation (3.2480e-06) exceeds tolerance\n",
      "Best objective 4.478622904421e+01, best bound 4.478579440539e+01, gap 0.0010%\n",
      "\n",
      "Status: ok\n",
      "Return code: 0\n",
      "Message: Model was solved to optimality (subject to tolerances), and an optimal solution is available.\n",
      "Termination condition: optimal\n",
      "Termination message: Model was solved to optimality (subject to tolerances), and an optimal solution is available.\n",
      "Wall time: 45.02914047241211\n",
      "Error rc: 0\n",
      "Time: 46.193702697753906\n",
      "\n",
      "\n",
      "Name: x43032\n",
      "Lower bound: 44.78579440538802\n",
      "Upper bound: 44.78622904420734\n",
      "Number of objectives: 1\n",
      "Number of constraints: 50111\n",
      "Number of variables: 27264\n",
      "Number of binary variables: 28\n",
      "Number of integer variables: 38\n",
      "Number of continuous variables: 27226\n",
      "Number of nonzeros: 147376\n",
      "Sense: minimize\n",
      "\n",
      "Solve time: 53.522496461868286 sec.\n",
      "\n",
      "Processing optimization output...\n",
      "for SourceSinkModel ...    (1.6282sec)\n"
     ]
    },
    {
     "name": "stderr",
     "output_type": "stream",
     "text": [
      " c:\\users\\s.patil\\documents\\code\\fine\\FINE\\storage.py:1170: UserWarning:Charge and discharge at the same time for component Pumped hydro storage\n",
      " c:\\users\\s.patil\\documents\\code\\fine\\FINE\\storage.py:1170: UserWarning:Charge and discharge at the same time for component Salt caverns (hydrogen)\n"
     ]
    },
    {
     "name": "stdout",
     "output_type": "stream",
     "text": [
      "for StorageModel ...       (4.5870sec)\n",
      "for ConversionModel ...    (1.0337sec)\n",
      "for TransmissionModel ...  (3.3035sec)\n",
      "\t\t(10.5781 sec)\n",
      "\n",
      "\n",
      "Writing output to Excel... \n",
      "\tProcessing SourceSinkModel ...\n",
      "\tProcessing StorageModel ...\n",
      "\tProcessing ConversionModel ...\n",
      "\tProcessing TransmissionModel ...\n",
      "\tSaving file...\n",
      "Done. (108.9859 sec)\n"
     ]
    }
   ],
   "source": [
    "esM = fn.energySystemModelRunFromExcel()"
   ]
  },
  {
   "cell_type": "markdown",
   "metadata": {},
   "source": [
    "### Read only"
   ]
  },
  {
   "cell_type": "code",
   "execution_count": 3,
   "metadata": {},
   "outputs": [
    {
     "name": "stdout",
     "output_type": "stream",
     "text": [
      "The distances of a component are set to a normalized value of 1.\n"
     ]
    }
   ],
   "source": [
    "esM, esMData = fn.readEnergySystemModelFromExcel()"
   ]
  },
  {
   "cell_type": "code",
   "execution_count": null,
   "metadata": {},
   "outputs": [],
   "source": []
  }
 ],
 "metadata": {
  "jupytext": {
   "formats": "ipynb,py:percent",
   "main_language": "python",
   "notebook_metadata_filter": "-all"
  },
  "kernelspec": {
   "display_name": "Python 3",
   "language": "python",
   "name": "python3"
  },
  "language_info": {
   "codemirror_mode": {
    "name": "ipython",
    "version": 3
   },
   "file_extension": ".py",
   "mimetype": "text/x-python",
   "name": "python",
   "nbconvert_exporter": "python",
   "pygments_lexer": "ipython3",
   "version": "3.8.6"
  }
 },
 "nbformat": 4,
 "nbformat_minor": 4
}
