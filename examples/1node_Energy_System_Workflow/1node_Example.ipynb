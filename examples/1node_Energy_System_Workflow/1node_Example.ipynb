{
 "cells": [
  {
   "cell_type": "markdown",
   "metadata": {},
   "source": [
    "# Workflow for a 1node energy system\n",
    "\n",
    "In this application of the FINE framework, a multi-regional energy system is modeled and optimized.\n",
    "\n",
    "All classes which are available to the user are utilized and examples of the selection of different parameters within these classes are given.\n",
    "\n",
    "The workflow is structures as follows:\n",
    "1. Required packages are imported and the input data path is set\n",
    "2. An energy system model instance is created\n",
    "3. Commodity sources are added to the energy system model\n",
    "4. Commodity conversion components are added to the energy system model\n",
    "5. Commodity storages are added to the energy system model\n",
    "7. Commodity sinks are added to the energy system model\n",
    "8. The energy system model is optimized\n",
    "9. Selected optimization results are presented\n"
   ]
  },
  {
   "cell_type": "markdown",
   "metadata": {},
   "source": [
    "# 1. Import required packages and set input data path\n",
    "\n",
    "The FINE framework is imported which provides the required classes and functions for modeling the energy system."
   ]
  },
  {
   "cell_type": "code",
   "execution_count": null,
   "metadata": {
    "scrolled": true
   },
   "outputs": [],
   "source": [
    "import FINE as fn\n",
    "from getData import getData\n",
    "\n",
    "# import pandas as pd\n",
    "import os\n",
    "\n",
    "cwd = os.getcwd()\n",
    "data = getData()\n",
    "\n",
    "%matplotlib inline\n",
    "%load_ext autoreload\n",
    "%autoreload 2"
   ]
  },
  {
   "cell_type": "markdown",
   "metadata": {},
   "source": [
    "# 2. Create an energy system model instance \n",
    "\n",
    "The structure of the energy system model is given by the considered locations, commodities, the number of time steps as well as the hours per time step.\n",
    "\n",
    "The commodities are specified by a unit (i.e. 'GW_electric', 'GW_H2lowerHeatingValue', 'Mio. t CO2/h') which can be given as an energy or mass unit per hour. Furthermore, the cost unit and length unit are specified."
   ]
  },
  {
   "cell_type": "code",
   "execution_count": null,
   "metadata": {},
   "outputs": [],
   "source": [
    "locations = {\"GermanyRegion\"}\n",
    "commodityUnitDict = {\"electricity\": r\"GW$_{el}$\", \"hydrogen\": r\"GW$_{H_{2},LHV}$\"}\n",
    "commodities = {\"electricity\", \"hydrogen\"}\n",
    "numberOfTimeSteps = 8760\n",
    "hoursPerTimeStep = 1"
   ]
  },
  {
   "cell_type": "code",
   "execution_count": null,
   "metadata": {},
   "outputs": [],
   "source": [
    "esM = fn.EnergySystemModel(\n",
    "    locations=locations,\n",
    "    commodities=commodities,\n",
    "    numberOfTimeSteps=8760,\n",
    "    commodityUnitsDict=commodityUnitDict,\n",
    "    hoursPerTimeStep=1,\n",
    "    costUnit=\"1e9 Euro\",\n",
    "    lengthUnit=\"km\",\n",
    "    verboseLogLevel=0,\n",
    ")"
   ]
  },
  {
   "cell_type": "markdown",
   "metadata": {},
   "source": [
    "# 3. Add commodity sources to the energy system model"
   ]
  },
  {
   "cell_type": "markdown",
   "metadata": {},
   "source": [
    "## 3.1. Electricity sources"
   ]
  },
  {
   "cell_type": "markdown",
   "metadata": {},
   "source": [
    "### Wind onshore"
   ]
  },
  {
   "cell_type": "code",
   "execution_count": null,
   "metadata": {
    "scrolled": true
   },
   "outputs": [],
   "source": [
    "esM.add(\n",
    "    fn.Source(\n",
    "        esM=esM,\n",
    "        name=\"Wind (onshore)\",\n",
    "        commodity=\"electricity\",\n",
    "        hasCapacityVariable=True,\n",
    "        operationRateMax=data[\"Wind (onshore), operationRateMax\"],\n",
    "        capacityMax=data[\"Wind (onshore), capacityMax\"],\n",
    "        investPerCapacity=1.1,\n",
    "        opexPerCapacity=1.1 * 0.02,\n",
    "        interestRate=0.08,\n",
    "        economicLifetime=20,\n",
    "    )\n",
    ")"
   ]
  },
  {
   "cell_type": "markdown",
   "metadata": {},
   "source": [
    "Full load hours:"
   ]
  },
  {
   "cell_type": "code",
   "execution_count": null,
   "metadata": {
    "tags": [
     "nbval-check-output"
    ]
   },
   "outputs": [],
   "source": [
    "data[\"Wind (onshore), operationRateMax\"].sum()"
   ]
  },
  {
   "cell_type": "markdown",
   "metadata": {},
   "source": [
    "# 4. Add conversion components to the energy system model"
   ]
  },
  {
   "cell_type": "markdown",
   "metadata": {},
   "source": [
    "### New combined cycly gas turbines for hydrogen"
   ]
  },
  {
   "cell_type": "code",
   "execution_count": null,
   "metadata": {},
   "outputs": [],
   "source": [
    "esM.add(\n",
    "    fn.Conversion(\n",
    "        esM=esM,\n",
    "        name=\"New CCGT plants (hydrogen)\",\n",
    "        physicalUnit=r\"GW$_{el}$\",\n",
    "        commodityConversionFactors={\"electricity\": 1, \"hydrogen\": -1 / 0.6},\n",
    "        hasCapacityVariable=True,\n",
    "        investPerCapacity=0.7,\n",
    "        opexPerCapacity=0.021,\n",
    "        interestRate=0.08,\n",
    "        economicLifetime=33,\n",
    "    )\n",
    ")"
   ]
  },
  {
   "cell_type": "markdown",
   "metadata": {},
   "source": [
    "### Electrolyzers"
   ]
  },
  {
   "cell_type": "code",
   "execution_count": null,
   "metadata": {},
   "outputs": [],
   "source": [
    "esM.add(\n",
    "    fn.Conversion(\n",
    "        esM=esM,\n",
    "        name=\"Electroylzers\",\n",
    "        physicalUnit=r\"GW$_{el}$\",\n",
    "        commodityConversionFactors={\"electricity\": -1, \"hydrogen\": 0.7},\n",
    "        hasCapacityVariable=True,\n",
    "        investPerCapacity=0.5,\n",
    "        opexPerCapacity=0.5 * 0.025,\n",
    "        interestRate=0.08,\n",
    "        economicLifetime=10,\n",
    "    )\n",
    ")"
   ]
  },
  {
   "cell_type": "markdown",
   "metadata": {},
   "source": [
    "# 5. Add commodity storages to the energy system model"
   ]
  },
  {
   "cell_type": "markdown",
   "metadata": {},
   "source": [
    "## 5.1. Electricity storage"
   ]
  },
  {
   "cell_type": "markdown",
   "metadata": {},
   "source": [
    "### Lithium ion batteries\n",
    "\n",
    "The self discharge of a lithium ion battery is here described as 3% per month. The self discharge per hours is obtained using the equation (1-$\\text{selfDischarge}_\\text{hour})^{30*24\\text{h}} = 1-\\text{selfDischarge}_\\text{month}$."
   ]
  },
  {
   "cell_type": "code",
   "execution_count": null,
   "metadata": {},
   "outputs": [],
   "source": [
    "esM.add(\n",
    "    fn.Storage(\n",
    "        esM=esM,\n",
    "        name=\"Li-ion batteries\",\n",
    "        commodity=\"electricity\",\n",
    "        hasCapacityVariable=True,\n",
    "        chargeEfficiency=0.95,\n",
    "        cyclicLifetime=10000,\n",
    "        dischargeEfficiency=0.95,\n",
    "        selfDischarge=1 - (1 - 0.03) ** (1 / (30 * 24)),\n",
    "        chargeRate=1,\n",
    "        dischargeRate=1,\n",
    "        doPreciseTsaModeling=False,\n",
    "        investPerCapacity=0.151,\n",
    "        opexPerCapacity=0.002,\n",
    "        interestRate=0.08,\n",
    "        economicLifetime=22,\n",
    "    )\n",
    ")"
   ]
  },
  {
   "cell_type": "markdown",
   "metadata": {},
   "source": [
    "## 5.2. Hydrogen storage"
   ]
  },
  {
   "cell_type": "markdown",
   "metadata": {},
   "source": [
    "### Hydrogen filled salt caverns\n",
    "The maximum capacity is here obtained by: dividing the given capacity (which is given for methane) by the lower heating value of methane and then multiplying it with the lower heating value of hydrogen."
   ]
  },
  {
   "cell_type": "code",
   "execution_count": null,
   "metadata": {},
   "outputs": [],
   "source": [
    "esM.add(\n",
    "    fn.Storage(\n",
    "        esM=esM,\n",
    "        name=\"Salt caverns (hydrogen)\",\n",
    "        commodity=\"hydrogen\",\n",
    "        hasCapacityVariable=True,\n",
    "        capacityVariableDomain=\"continuous\",\n",
    "        capacityPerPlantUnit=133,\n",
    "        chargeRate=1 / 470.37,\n",
    "        dischargeRate=1 / 470.37,\n",
    "        sharedPotentialID=\"Existing salt caverns\",\n",
    "        stateOfChargeMin=0.33,\n",
    "        stateOfChargeMax=1,\n",
    "        capacityMax=data[\"Salt caverns (hydrogen), capacityMax\"],\n",
    "        investPerCapacity=0.00011,\n",
    "        opexPerCapacity=0.00057,\n",
    "        interestRate=0.08,\n",
    "        economicLifetime=30,\n",
    "    )\n",
    ")"
   ]
  },
  {
   "cell_type": "markdown",
   "metadata": {},
   "source": [
    "# 7. Add commodity sinks to the energy system model"
   ]
  },
  {
   "cell_type": "markdown",
   "metadata": {},
   "source": [
    "## 7.1. Electricity sinks"
   ]
  },
  {
   "cell_type": "markdown",
   "metadata": {},
   "source": [
    "### Electricity demand"
   ]
  },
  {
   "cell_type": "code",
   "execution_count": null,
   "metadata": {},
   "outputs": [],
   "source": [
    "esM.add(\n",
    "    fn.Sink(\n",
    "        esM=esM,\n",
    "        name=\"Electricity demand\",\n",
    "        commodity=\"electricity\",\n",
    "        hasCapacityVariable=False,\n",
    "        operationRateFix=data[\"Electricity demand, operationRateFix\"],\n",
    "    )\n",
    ")"
   ]
  },
  {
   "cell_type": "markdown",
   "metadata": {},
   "source": [
    "## 7.2. Hydrogen sinks"
   ]
  },
  {
   "cell_type": "markdown",
   "metadata": {},
   "source": [
    "### Fuel cell electric vehicle (FCEV) demand"
   ]
  },
  {
   "cell_type": "code",
   "execution_count": null,
   "metadata": {},
   "outputs": [],
   "source": [
    "FCEV_penetration = 0.5\n",
    "esM.add(\n",
    "    fn.Sink(\n",
    "        esM=esM,\n",
    "        name=\"Hydrogen demand\",\n",
    "        commodity=\"hydrogen\",\n",
    "        hasCapacityVariable=False,\n",
    "        operationRateFix=data[\"Hydrogen demand, operationRateFix\"] * FCEV_penetration,\n",
    "    )\n",
    ")"
   ]
  },
  {
   "cell_type": "markdown",
   "metadata": {},
   "source": [
    "# 8. Optimize energy system model"
   ]
  },
  {
   "cell_type": "markdown",
   "metadata": {},
   "source": [
    "All components are now added to the model and the model can be optimized. If the computational complexity of the optimization should be reduced, the time series data of the specified components can be clustered before the optimization and the parameter timeSeriesAggregation is set to True in the optimize call."
   ]
  },
  {
   "cell_type": "code",
   "execution_count": null,
   "metadata": {},
   "outputs": [],
   "source": [
    "esM.aggregateTemporally(numberOfTypicalPeriods=30)"
   ]
  },
  {
   "cell_type": "code",
   "execution_count": null,
   "metadata": {
    "scrolled": true
   },
   "outputs": [],
   "source": [
    "esM.optimize(timeSeriesAggregation=True, solver=\"glpk\")"
   ]
  },
  {
   "cell_type": "markdown",
   "metadata": {},
   "source": [
    "# 9. Selected results output"
   ]
  },
  {
   "cell_type": "markdown",
   "metadata": {},
   "source": [
    "### Sources and Sink\n",
    "\n",
    "Show optimization summary"
   ]
  },
  {
   "cell_type": "code",
   "execution_count": null,
   "metadata": {
    "tags": [
     "nbval-check-output"
    ]
   },
   "outputs": [],
   "source": [
    "esM.getOptimizationSummary(\"SourceSinkModel\", outputLevel=2)"
   ]
  },
  {
   "cell_type": "markdown",
   "metadata": {},
   "source": [
    "Plot operation time series (either one or two dimensional)"
   ]
  },
  {
   "cell_type": "code",
   "execution_count": null,
   "metadata": {
    "tags": [
     "nbval-check-output"
    ]
   },
   "outputs": [],
   "source": [
    "fig, ax = fn.plotOperation(esM, \"Electricity demand\", \"GermanyRegion\")"
   ]
  },
  {
   "cell_type": "code",
   "execution_count": null,
   "metadata": {
    "tags": [
     "nbval-check-output"
    ]
   },
   "outputs": [],
   "source": [
    "fig, ax = fn.plotOperationColorMap(esM, \"Electricity demand\", \"GermanyRegion\")"
   ]
  },
  {
   "cell_type": "markdown",
   "metadata": {},
   "source": [
    "### Conversion\n",
    "\n",
    "Show optimization summary"
   ]
  },
  {
   "cell_type": "code",
   "execution_count": null,
   "metadata": {
    "tags": [
     "nbval-check-output"
    ]
   },
   "outputs": [],
   "source": [
    "esM.getOptimizationSummary(\"ConversionModel\", outputLevel=2)"
   ]
  },
  {
   "cell_type": "code",
   "execution_count": null,
   "metadata": {
    "tags": [
     "nbval-check-output"
    ]
   },
   "outputs": [],
   "source": [
    "fig, ax = fn.plotOperationColorMap(esM, \"New CCGT plants (hydrogen)\", \"GermanyRegion\")"
   ]
  },
  {
   "cell_type": "markdown",
   "metadata": {},
   "source": [
    "### Storage\n",
    "\n",
    "Show optimization summary"
   ]
  },
  {
   "cell_type": "code",
   "execution_count": null,
   "metadata": {
    "tags": [
     "nbval-check-output"
    ]
   },
   "outputs": [],
   "source": [
    "esM.getOptimizationSummary(\"StorageModel\", outputLevel=2)"
   ]
  },
  {
   "cell_type": "code",
   "execution_count": null,
   "metadata": {
    "tags": [
     "nbval-check-output"
    ]
   },
   "outputs": [],
   "source": [
    "fig, ax = fn.plotOperationColorMap(\n",
    "    esM,\n",
    "    \"Li-ion batteries\",\n",
    "    \"GermanyRegion\",\n",
    "    variableName=\"stateOfChargeOperationVariablesOptimum\",\n",
    ")"
   ]
  },
  {
   "cell_type": "code",
   "execution_count": null,
   "metadata": {
    "tags": [
     "nbval-check-output"
    ]
   },
   "outputs": [],
   "source": [
    "fig, ax = fn.plotOperationColorMap(\n",
    "    esM,\n",
    "    \"Salt caverns (hydrogen)\",\n",
    "    \"GermanyRegion\",\n",
    "    variableName=\"stateOfChargeOperationVariablesOptimum\",\n",
    ")"
   ]
  }
 ],
 "metadata": {
  "anaconda-cloud": {},
  "jupytext": {
   "formats": "ipynb,py:percent",
   "notebook_metadata_filter": "-all"
  },
  "kernelspec": {
   "display_name": "Python 3",
   "language": "python",
   "name": "python3"
  },
  "language_info": {
   "codemirror_mode": {
    "name": "ipython",
    "version": 3
   },
   "file_extension": ".py",
   "mimetype": "text/x-python",
   "name": "python",
   "nbconvert_exporter": "python",
   "pygments_lexer": "ipython3",
   "version": "3.8.6"
  }
 },
 "nbformat": 4,
 "nbformat_minor": 4
}
