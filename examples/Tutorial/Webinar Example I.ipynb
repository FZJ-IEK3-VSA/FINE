{
 "cells": [
  {
   "cell_type": "code",
   "execution_count": null,
   "metadata": {},
   "outputs": [],
   "source": [
    "import warnings\n",
    "\n",
    "warnings.filterwarnings(\n",
    "    \"ignore\"\n",
    ")  # For better visibility, warnings are turned off in this notebook"
   ]
  },
  {
   "cell_type": "markdown",
   "metadata": {},
   "source": [
    "# FINE Webinar Part I: 2-nodal Electricity Supply System"
   ]
  },
  {
   "cell_type": "markdown",
   "metadata": {},
   "source": [
    "In this application of the FINE framework, an energy supply system, consisting of two-regions, is modeled and optimized.\n",
    "\n",
    "The workflow is structures as follows:\n",
    "-  Required packages are imported\n",
    "-  An energy system model instance is created\n",
    "-  Commodity sources are added to the energy supply system model\n",
    "-  Commodity conversion components are added to the energy supply system model\n",
    "-  Commodity storages are added to the energy supply system model\n",
    "-  Commodity transmission components are added to the energy supply system model\n",
    "-  Commodity sinks are added to the energy supply system model\n",
    "-  The energy supply system model is optimized\n",
    "-  Selected optimization results are presented"
   ]
  },
  {
   "cell_type": "markdown",
   "metadata": {},
   "source": [
    "# Import required packages\n",
    "\n",
    "The FINE framework is imported which provides the required classes and functions for modeling the energy system."
   ]
  },
  {
   "cell_type": "code",
   "execution_count": null,
   "metadata": {},
   "outputs": [],
   "source": [
    "import FINE as fn  # Provides objects and functions to model an energy system\n",
    "import pandas as pd  # Used to manage data in tables\n",
    "import shapely as shp  # Used to generate geometric objects\n",
    "import numpy as np  # Used to generate random input data\n",
    "\n",
    "np.random.seed(\n",
    "    42\n",
    ")  # Sets a \"seed\" to produce the same random input data in each model run"
   ]
  },
  {
   "cell_type": "code",
   "execution_count": null,
   "metadata": {
    "tags": [
     "nbval-skip"
    ]
   },
   "outputs": [],
   "source": [
    "import geopandas as gpd  # Used to display geo-referenced plots"
   ]
  },
  {
   "cell_type": "markdown",
   "metadata": {},
   "source": [
    "# Model an energy system"
   ]
  },
  {
   "cell_type": "markdown",
   "metadata": {},
   "source": [
    "## Create an energy system model instance \n",
    "\n",
    "The structure of the energy supply system model is given by the considered locations, commodities, the number of time steps as well as the hours per time step.\n",
    "\n",
    "The commodities are specified by a unit (i.e. 'GW_electric', 'GW_naturalGas_lowerHeatingValue', 'Mio. t CO2/h') which can be given as an energy or mass unit per hour. Furthermore, the cost unit and length unit are specified."
   ]
  },
  {
   "cell_type": "code",
   "execution_count": null,
   "metadata": {
    "code_folding": []
   },
   "outputs": [],
   "source": [
    "# Input parameters\n",
    "locations = {\"regionN\", \"regionS\"}\n",
    "commodityUnitDict = {\n",
    "    \"electricity\": r\"GW$_{el}$\",\n",
    "    \"naturalGas\": r\"GW$_{CH_{4},LHV}$\",\n",
    "    \"CO2\": r\"Mio. t$_{CO_2}$/h\",\n",
    "}\n",
    "commodities = {\"electricity\", \"naturalGas\", \"CO2\"}\n",
    "numberOfTimeSteps, hoursPerTimeStep = 8760, 1\n",
    "costUnit, lengthUnit = \"1e6 Euro\", \"km\"\n",
    "\n",
    "# Code\n",
    "esM = fn.EnergySystemModel(\n",
    "    locations=locations,\n",
    "    commodities=commodities,\n",
    "    numberOfTimeSteps=numberOfTimeSteps,\n",
    "    commodityUnitsDict=commodityUnitDict,\n",
    "    hoursPerTimeStep=hoursPerTimeStep,\n",
    "    costUnit=costUnit,\n",
    "    lengthUnit=lengthUnit,\n",
    "    verboseLogLevel=0,\n",
    ")"
   ]
  },
  {
   "cell_type": "markdown",
   "metadata": {},
   "source": [
    "## Add source components\n",
    "\n",
    "Source components generate commodities across the energy system's virtual boundaries."
   ]
  },
  {
   "cell_type": "code",
   "execution_count": null,
   "metadata": {
    "scrolled": true
   },
   "outputs": [],
   "source": [
    "# Input parameters\n",
    "name, commodity = \"Wind turbines\", \"electricity\"\n",
    "hasCapacityVariable = True\n",
    "operationRateMax = pd.DataFrame(\n",
    "    [[np.random.beta(a=2, b=7.5), np.random.beta(a=2, b=9)] for t in range(8760)],\n",
    "    index=range(8760),\n",
    "    columns=[\"regionN\", \"regionS\"],\n",
    ").round(6)\n",
    "capacityMax = pd.Series([400, 200], index=[\"regionN\", \"regionS\"])\n",
    "investPerCapacity, opexPerCapacity = 1200, 1200 * 0.02\n",
    "interestRate, economicLifetime = 0.08, 20\n",
    "\n",
    "# If data should be read from an excel file:\n",
    "writer = pd.ExcelWriter(\"windTurbineProfile.xlsx\")  # writes data to an excel file\n",
    "operationRateMax.to_excel(writer)  # (not required if excel file\n",
    "writer.save()  #  already exists)\n",
    "operationRateMax = pd.read_excel(\n",
    "    \"windTurbineProfile.xlsx\", index_col=0\n",
    ")  # reads an excel file located in\n",
    "# the current working directory\n",
    "\n",
    "# Code\n",
    "esM.add(\n",
    "    fn.Source(\n",
    "        esM=esM,\n",
    "        name=name,\n",
    "        commodity=commodity,\n",
    "        hasCapacityVariable=hasCapacityVariable,\n",
    "        operationRateMax=operationRateMax,\n",
    "        capacityMax=capacityMax,\n",
    "        investPerCapacity=investPerCapacity,\n",
    "        opexPerCapacity=opexPerCapacity,\n",
    "        interestRate=interestRate,\n",
    "        economicLifetime=economicLifetime,\n",
    "    )\n",
    ")"
   ]
  },
  {
   "cell_type": "code",
   "execution_count": null,
   "metadata": {
    "scrolled": true
   },
   "outputs": [],
   "source": [
    "# Input parameters\n",
    "name, commodity = \"PV\", \"electricity\"\n",
    "hasCapacityVariable = True\n",
    "dailyProfileSimple = [\n",
    "    0,\n",
    "    0,\n",
    "    0,\n",
    "    0,\n",
    "    0,\n",
    "    0,\n",
    "    0,\n",
    "    0.05,\n",
    "    0.15,\n",
    "    0.2,\n",
    "    0.4,\n",
    "    0.8,\n",
    "    0.7,\n",
    "    0.4,\n",
    "    0.2,\n",
    "    0.15,\n",
    "    0.05,\n",
    "    0,\n",
    "    0,\n",
    "    0,\n",
    "    0,\n",
    "    0,\n",
    "    0,\n",
    "    0,\n",
    "]\n",
    "operationRateMax = pd.DataFrame(\n",
    "    [[u, u] for day in range(365) for u in dailyProfileSimple],\n",
    "    index=range(8760),\n",
    "    columns=[\"regionN\", \"regionS\"],\n",
    ")\n",
    "capacityMax = pd.Series([100, 100], index=[\"regionN\", \"regionS\"])\n",
    "investPerCapacity, opexPerCapacity = 800, 800 * 0.02\n",
    "interestRate, economicLifetime = 0.08, 25\n",
    "\n",
    "# If data should be read from an excel file:\n",
    "writer = pd.ExcelWriter(\"PV_Profile.xlsx\")  # writes data to an excel file\n",
    "operationRateMax.to_excel(writer)  # (not required if excel file\n",
    "writer.save()  #  already exists)\n",
    "operationRateMax = pd.read_excel(\n",
    "    \"PV_Profile.xlsx\", index_col=0\n",
    ")  # reads an excel file located in\n",
    "# the current working directory\n",
    "\n",
    "# Code\n",
    "esM.add(\n",
    "    fn.Source(\n",
    "        esM=esM,\n",
    "        name=name,\n",
    "        commodity=commodity,\n",
    "        hasCapacityVariable=hasCapacityVariable,\n",
    "        operationRateMax=operationRateMax,\n",
    "        capacityMax=capacityMax,\n",
    "        investPerCapacity=investPerCapacity,\n",
    "        opexPerCapacity=opexPerCapacity,\n",
    "        interestRate=interestRate,\n",
    "        economicLifetime=economicLifetime,\n",
    "    )\n",
    ")"
   ]
  },
  {
   "cell_type": "code",
   "execution_count": null,
   "metadata": {},
   "outputs": [],
   "source": [
    "# Input parameters\n",
    "name, commodity = \"Natural gas import\", \"naturalGas\"\n",
    "hasCapacityVariable = False\n",
    "commodityCost = 0.03\n",
    "\n",
    "# Code\n",
    "esM.add(\n",
    "    fn.Source(\n",
    "        esM=esM,\n",
    "        name=name,\n",
    "        commodity=commodity,\n",
    "        hasCapacityVariable=hasCapacityVariable,\n",
    "        commodityCost=commodityCost,\n",
    "    )\n",
    ")"
   ]
  },
  {
   "cell_type": "markdown",
   "metadata": {},
   "source": [
    "##  Add conversion components\n",
    "\n",
    "Conversion components convert m commodities into n other commodities."
   ]
  },
  {
   "cell_type": "code",
   "execution_count": null,
   "metadata": {},
   "outputs": [],
   "source": [
    "# Input parameters\n",
    "name, physicalUnit = \"Gas power plants\", r\"GW$_{el}$\"\n",
    "commodityConversionFactors = {\n",
    "    \"electricity\": 1,\n",
    "    \"naturalGas\": -1 / 0.63,\n",
    "    \"CO2\": 201 * 1e-6 / 0.63,\n",
    "}\n",
    "hasCapacityVariable = True\n",
    "investPerCapacity, opexPerCapacity = 650, 650 * 0.03\n",
    "interestRate, economicLifetime = 0.08, 30\n",
    "\n",
    "# Code\n",
    "esM.add(\n",
    "    fn.Conversion(\n",
    "        esM=esM,\n",
    "        name=name,\n",
    "        physicalUnit=physicalUnit,\n",
    "        commodityConversionFactors=commodityConversionFactors,\n",
    "        hasCapacityVariable=hasCapacityVariable,\n",
    "        investPerCapacity=investPerCapacity,\n",
    "        opexPerCapacity=opexPerCapacity,\n",
    "        interestRate=interestRate,\n",
    "        economicLifetime=economicLifetime,\n",
    "    )\n",
    ")"
   ]
  },
  {
   "cell_type": "markdown",
   "metadata": {},
   "source": [
    "## Add storage components\n",
    "\n",
    "Storage components can store commodities across time steps.\n",
    "\n",
    "The self discharge of a storage technology is described in FINE in percent per hour. If the literature value is given in percent per month, e.g. 3%/month, the self discharge per hours is obtained using the equation (1-$\\text{selfDischarge}_\\text{hour})^{30*24\\text{h}} = 1-\\text{selfDischarge}_\\text{month}$."
   ]
  },
  {
   "cell_type": "code",
   "execution_count": null,
   "metadata": {},
   "outputs": [],
   "source": [
    "# Input parameters\n",
    "name, commodity = \"Batteries\", \"electricity\"\n",
    "hasCapacityVariable = True\n",
    "chargeEfficiency, dischargeEfficiency, selfDischarge = (\n",
    "    0.95,\n",
    "    0.95,\n",
    "    1 - (1 - 0.03) ** (1 / (30 * 24)),\n",
    ")\n",
    "chargeRate, dischargeRate = 1, 1\n",
    "investPerCapacity, opexPerCapacity = 150, 150 * 0.01\n",
    "interestRate, economicLifetime, cyclicLifetime = 0.08, 22, 12000\n",
    "\n",
    "# Code\n",
    "esM.add(\n",
    "    fn.Storage(\n",
    "        esM=esM,\n",
    "        name=name,\n",
    "        commodity=commodity,\n",
    "        hasCapacityVariable=hasCapacityVariable,\n",
    "        chargeEfficiency=chargeEfficiency,\n",
    "        cyclicLifetime=cyclicLifetime,\n",
    "        dischargeEfficiency=dischargeEfficiency,\n",
    "        selfDischarge=selfDischarge,\n",
    "        chargeRate=chargeRate,\n",
    "        dischargeRate=dischargeRate,\n",
    "        investPerCapacity=investPerCapacity,\n",
    "        opexPerCapacity=opexPerCapacity,\n",
    "        interestRate=interestRate,\n",
    "        economicLifetime=economicLifetime,\n",
    "    )\n",
    ")"
   ]
  },
  {
   "cell_type": "markdown",
   "metadata": {},
   "source": [
    "## Add transmission components\n",
    "\n",
    "Transmission components transmit commodities between regions."
   ]
  },
  {
   "cell_type": "code",
   "execution_count": null,
   "metadata": {},
   "outputs": [],
   "source": [
    "# Input parameters\n",
    "name, commodity = \"AC cables\", \"electricity\"\n",
    "hasCapacityVariable = True\n",
    "capacityFix = pd.DataFrame(\n",
    "    [[0, 30], [30, 0]], columns=[\"regionN\", \"regionS\"], index=[\"regionN\", \"regionS\"]\n",
    ")\n",
    "distances = pd.DataFrame(\n",
    "    [[0, 400], [400, 0]], columns=[\"regionN\", \"regionS\"], index=[\"regionN\", \"regionS\"]\n",
    ")\n",
    "losses = 0.0001\n",
    "\n",
    "# Code\n",
    "esM.add(\n",
    "    fn.Transmission(\n",
    "        esM=esM,\n",
    "        name=name,\n",
    "        commodity=commodity,\n",
    "        hasCapacityVariable=hasCapacityVariable,\n",
    "        capacityFix=capacityFix,\n",
    "        distances=distances,\n",
    "        losses=losses,\n",
    "    )\n",
    ")"
   ]
  },
  {
   "cell_type": "code",
   "execution_count": null,
   "metadata": {},
   "outputs": [],
   "source": [
    "distances"
   ]
  },
  {
   "cell_type": "markdown",
   "metadata": {},
   "source": [
    "## Add sink components\n",
    "\n",
    "Sinks remove commodities across the energy system´s virtual boundaries."
   ]
  },
  {
   "cell_type": "code",
   "execution_count": null,
   "metadata": {
    "code_folding": [],
    "scrolled": true
   },
   "outputs": [],
   "source": [
    "# Input parameters\n",
    "name, commodity = (\n",
    "    \"Electricity demand\",\n",
    "    \"electricity\",\n",
    ")\n",
    "hasCapacityVariable = False\n",
    "dailyProfileSimple = [\n",
    "    0.6,\n",
    "    0.6,\n",
    "    0.6,\n",
    "    0.6,\n",
    "    0.6,\n",
    "    0.7,\n",
    "    0.9,\n",
    "    1,\n",
    "    1,\n",
    "    1,\n",
    "    1,\n",
    "    1,\n",
    "    1,\n",
    "    1,\n",
    "    1,\n",
    "    1,\n",
    "    1,\n",
    "    1,\n",
    "    1,\n",
    "    1,\n",
    "    1,\n",
    "    1,\n",
    "    0.9,\n",
    "    0.8,\n",
    "]\n",
    "operationRateFix = pd.DataFrame(\n",
    "    [\n",
    "        [(u + 0.1 * np.random.rand()) * 25, (u + 0.1 * np.random.rand()) * 40]\n",
    "        for day in range(365)\n",
    "        for u in dailyProfileSimple\n",
    "    ],\n",
    "    index=range(8760),\n",
    "    columns=[\"regionN\", \"regionS\"],\n",
    ").round(2)\n",
    "\n",
    "# If data should be read from an excel file:\n",
    "writer = pd.ExcelWriter(\"demandProfile.xlsx\")  # writes data to an excel file\n",
    "operationRateFix.to_excel(writer)  # (not required if excel file\n",
    "writer.save()  #  already exists)\n",
    "operationRateFix = pd.read_excel(\n",
    "    \"demandProfile.xlsx\", index_col=0\n",
    ")  # reads an excel file located in\n",
    "# the current working directory\n",
    "\n",
    "# Code\n",
    "esM.add(\n",
    "    fn.Sink(\n",
    "        esM=esM,\n",
    "        name=name,\n",
    "        commodity=commodity,\n",
    "        hasCapacityVariable=hasCapacityVariable,\n",
    "        operationRateFix=operationRateFix,\n",
    "    )\n",
    ")"
   ]
  },
  {
   "cell_type": "code",
   "execution_count": null,
   "metadata": {},
   "outputs": [],
   "source": [
    "# Input parameters\n",
    "name, commodity = (\n",
    "    \"CO2 to enviroment\",\n",
    "    \"CO2\",\n",
    ")\n",
    "hasCapacityVariable = False\n",
    "commodityLimitID, yearlyLimit = \"CO2 limit\", 366 * (1 - 0.8)\n",
    "\n",
    "# Code\n",
    "if yearlyLimit > 0:\n",
    "    esM.add(\n",
    "        fn.Sink(\n",
    "            esM=esM,\n",
    "            name=name,\n",
    "            commodity=commodity,\n",
    "            hasCapacityVariable=hasCapacityVariable,\n",
    "            commodityLimitID=commodityLimitID,\n",
    "            yearlyLimit=yearlyLimit,\n",
    "        )\n",
    "    )"
   ]
  },
  {
   "cell_type": "markdown",
   "metadata": {},
   "source": [
    "# Optimize energy system model"
   ]
  },
  {
   "cell_type": "markdown",
   "metadata": {},
   "source": [
    "All components are now added to the model and the model can be optimized. If the computational complexity of the optimization should be reduced, the time series data of the specified components can be clustered before the optimization and the parameter timeSeriesAggregation is set to True in the optimize call."
   ]
  },
  {
   "cell_type": "code",
   "execution_count": null,
   "metadata": {},
   "outputs": [],
   "source": [
    "# Input parameters\n",
    "numberOfTypicalPeriods = 30\n",
    "\n",
    "# Code\n",
    "esM.aggregateTemporally(numberOfTypicalPeriods=numberOfTypicalPeriods)"
   ]
  },
  {
   "cell_type": "code",
   "execution_count": null,
   "metadata": {
    "scrolled": true
   },
   "outputs": [],
   "source": [
    "# Input parameters\n",
    "timeSeriesAggregation = True\n",
    "solver = \"glpk\"\n",
    "\n",
    "# Code\n",
    "esM.optimize(timeSeriesAggregation=timeSeriesAggregation, solver=solver)"
   ]
  },
  {
   "cell_type": "markdown",
   "metadata": {},
   "source": [
    "# Output of selected results\n",
    "\n",
    "For the assessment of the optimization result, several result output functions are available. They can be categorized into output in form of tables, geo-referenced output visualization and the full time series visualization.\n"
   ]
  },
  {
   "cell_type": "markdown",
   "metadata": {},
   "source": [
    "## Create a regional shape file and visualize it\n",
    "\n",
    "Information on the geometrical shape of the investigated regions can either be downloaded from a website (e.g. from https://gadm.org/) or manually created. In this notebook, the geometries are manually created."
   ]
  },
  {
   "cell_type": "code",
   "execution_count": null,
   "metadata": {
    "tags": [
     "nbval-skip"
    ]
   },
   "outputs": [],
   "source": [
    "# Create two circles, representing the two regions, and store their geometries in a shape file\n",
    "shpRegionS = shp.geometry.Point(0.5, 0.5).buffer(0.5)\n",
    "shpRegionN = shp.geometry.Point(0.5, 1.5).buffer(0.5)\n",
    "regionsGdf = gpd.GeoDataFrame(\n",
    "    {\"geometry\": [shpRegionN, shpRegionS], \"regionName\": [\"regionN\", \"regionS\"]},\n",
    "    index=[\"regionN\", \"regionS\"],\n",
    "    crs=\"epsg:3035\",\n",
    ")\n",
    "regionsGdf.to_file(\"regions.shp\")\n",
    "\n",
    "# Create a line, representing the connection between the two regions, and store its geometry in a\n",
    "# shape file\n",
    "lines = shp.geometry.LineString([(0.5, 0.5), (0.5, 1.5)])\n",
    "linesGdf = gpd.GeoDataFrame(\n",
    "    {\n",
    "        \"geometry\": [lines, lines],\n",
    "        \"loc0\": [\"regionN\", \"regionS\"],\n",
    "        \"loc1\": [\"regionS\", \"regionN\"],\n",
    "    },\n",
    "    index=[\"regionN_regionS\", \"regionS_regionN\"],\n",
    "    crs=\"epsg:3035\",\n",
    ")\n",
    "linesGdf.to_file(\"lines.shp\")\n",
    "\n",
    "# Visualize the geometric representation of the two regions\n",
    "fig, ax = fn.plotLocations(\"regions.shp\", indexColumn=\"regionName\", plotLocNames=True)"
   ]
  },
  {
   "cell_type": "markdown",
   "metadata": {},
   "source": [
    "## Display optimization summaries\n",
    "\n",
    "For each modeling class, an optimization summary can be stored and displayed. "
   ]
  },
  {
   "cell_type": "code",
   "execution_count": null,
   "metadata": {},
   "outputs": [],
   "source": [
    "srcSnkSummary = esM.getOptimizationSummary(\"SourceSinkModel\", outputLevel=1)\n",
    "display(esM.getOptimizationSummary(\"SourceSinkModel\", outputLevel=2))"
   ]
  },
  {
   "cell_type": "code",
   "execution_count": null,
   "metadata": {},
   "outputs": [],
   "source": [
    "convSummary = esM.getOptimizationSummary(\"ConversionModel\", outputLevel=1)\n",
    "display(esM.getOptimizationSummary(\"ConversionModel\", outputLevel=2))"
   ]
  },
  {
   "cell_type": "code",
   "execution_count": null,
   "metadata": {},
   "outputs": [],
   "source": [
    "storSummary = esM.getOptimizationSummary(\"StorageModel\", outputLevel=1)\n",
    "display(esM.getOptimizationSummary(\"StorageModel\", outputLevel=2))"
   ]
  },
  {
   "cell_type": "code",
   "execution_count": null,
   "metadata": {},
   "outputs": [],
   "source": [
    "transSummary = esM.getOptimizationSummary(\"TransmissionModel\", outputLevel=1)\n",
    "display(esM.getOptimizationSummary(\"TransmissionModel\", outputLevel=2))"
   ]
  },
  {
   "cell_type": "markdown",
   "metadata": {},
   "source": [
    "## Display regional and operational plots\n",
    "\n",
    "Georeferenced plots as well as plots representing time series can be displayed for each component."
   ]
  },
  {
   "cell_type": "markdown",
   "metadata": {},
   "source": [
    "### Wind turbines"
   ]
  },
  {
   "cell_type": "code",
   "execution_count": null,
   "metadata": {
    "tags": [
     "nbval-skip"
    ]
   },
   "outputs": [],
   "source": [
    "# If wind turbines are built, their capacities are displayed in a geo-referenced plot\n",
    "if srcSnkSummary.loc[(\"Wind turbines\", \"capacity\", \"[GW$_{el}$]\")].sum() > 0:\n",
    "    fig, ax = fn.plotLocationalColorMap(\n",
    "        esM,\n",
    "        \"Wind turbines\",\n",
    "        \"regions.shp\",\n",
    "        \"regionName\",\n",
    "        perArea=False,\n",
    "        zlabel=\"Capacity\\n[GW]\\n\",\n",
    "        figsize=(4, 4),\n",
    "    )\n",
    "else:\n",
    "    print(\"No wind turbines built.\")\n",
    "\n",
    "# If wind turbines are built in regionN, their operation is displayed as heatmap\n",
    "if srcSnkSummary.loc[(\"Wind turbines\", \"capacity\", \"[GW$_{el}$]\"), \"regionN\"] > 0:\n",
    "    fig, ax = fn.plotOperationColorMap(\n",
    "        esM,\n",
    "        \"Wind turbines\",\n",
    "        \"regionN\",\n",
    "        figsize=(5, 3),\n",
    "        xlabel=\"Day of the year\",\n",
    "        ylabel=\"Hour of the day\",\n",
    "        zlabel=\"Operation\\nin regionN\\n[GW]\",\n",
    "    )\n",
    "\n",
    "# If wind turbines are built in regionS, their operation is displayed as heatmap\n",
    "if srcSnkSummary.loc[(\"Wind turbines\", \"capacity\", \"[GW$_{el}$]\"), \"regionS\"] > 0:\n",
    "    fig, ax = fn.plotOperationColorMap(\n",
    "        esM,\n",
    "        \"Wind turbines\",\n",
    "        \"regionS\",\n",
    "        figsize=(5, 3),\n",
    "        xlabel=\"Day of the year\",\n",
    "        ylabel=\"Hour of the Day\",\n",
    "        zlabel=\"Operation\\nin regionS\\n[GW]\",\n",
    "        orientation=\"vertical\",\n",
    "    )"
   ]
  },
  {
   "cell_type": "markdown",
   "metadata": {},
   "source": [
    "### PV systems"
   ]
  },
  {
   "cell_type": "code",
   "execution_count": null,
   "metadata": {
    "tags": [
     "nbval-skip"
    ]
   },
   "outputs": [],
   "source": [
    "# If PV systems are built, their capacities are displayed in a geo-referenced plot\n",
    "if srcSnkSummary.loc[(\"PV\", \"capacity\", \"[GW$_{el}$]\")].sum() > 0:\n",
    "    fig, ax = fn.plotLocationalColorMap(\n",
    "        esM,\n",
    "        \"PV\",\n",
    "        \"regions.shp\",\n",
    "        \"regionName\",\n",
    "        perArea=False,\n",
    "        zlabel=\"Capacity\\n[GW]\\n\",\n",
    "        figsize=(4, 4),\n",
    "    )\n",
    "else:\n",
    "    print(\"No PV systems built.\")\n",
    "\n",
    "# If PV systems are built in regionS, their operation is displayed as heatmap\n",
    "if srcSnkSummary.loc[(\"PV\", \"capacity\", \"[GW$_{el}$]\"), \"regionN\"] > 0:\n",
    "    fig, ax = fn.plotOperationColorMap(\n",
    "        esM,\n",
    "        \"PV\",\n",
    "        \"regionN\",\n",
    "        figsize=(5, 3),\n",
    "        xlabel=\"Day of the year\",\n",
    "        ylabel=\"Hour of the day\",\n",
    "        zlabel=\"Operation\\nin regionN\\n[GW]\",\n",
    "    )\n",
    "\n",
    "# If PV systems are built in regionS, their operation is displayed as heatmap\n",
    "if srcSnkSummary.loc[(\"PV\", \"capacity\", \"[GW$_{el}$]\"), \"regionS\"] > 0:\n",
    "    fig, ax = fn.plotOperationColorMap(\n",
    "        esM,\n",
    "        \"PV\",\n",
    "        \"regionS\",\n",
    "        figsize=(5, 3),\n",
    "        xlabel=\"Day of the year\",\n",
    "        ylabel=\"Hour of the day\",\n",
    "        zlabel=\"Operation\\nin regionS\\n[GW]\",\n",
    "        orientation=\"vertical\",\n",
    "    )"
   ]
  },
  {
   "cell_type": "markdown",
   "metadata": {},
   "source": [
    "### Gas power plants"
   ]
  },
  {
   "cell_type": "code",
   "execution_count": null,
   "metadata": {
    "tags": [
     "nbval-skip"
    ]
   },
   "outputs": [],
   "source": [
    "# If CCGT plants are built, their capacities are displayed in a geo-referenced plot\n",
    "if convSummary.loc[(\"Gas power plants\", \"capacity\", \"[GW$_{el}$]\")].sum() > 0:\n",
    "    fig, ax = fn.plotLocationalColorMap(\n",
    "        esM,\n",
    "        \"Gas power plants\",\n",
    "        \"regions.shp\",\n",
    "        \"regionName\",\n",
    "        perArea=False,\n",
    "        zlabel=\"Capacity\\n[GW]\\n\",\n",
    "        figsize=(4, 4),\n",
    "    )\n",
    "else:\n",
    "    print(\"No CCGT plants built.\")\n",
    "\n",
    "# If CCGT plants are built in regionS, their operation is displayed as heatmap\n",
    "if convSummary.loc[(\"Gas power plants\", \"capacity\", \"[GW$_{el}$]\"), \"regionN\"] > 0:\n",
    "    fig, ax = fn.plotOperationColorMap(\n",
    "        esM,\n",
    "        \"Gas power plants\",\n",
    "        \"regionN\",\n",
    "        figsize=(5, 3),\n",
    "        xlabel=\"Day of the year\",\n",
    "        ylabel=\"Hour of the day\",\n",
    "        zlabel=\"Operation\\nin regionN\\n[GW]\",\n",
    "        orientation=\"vertical\",\n",
    "    )\n",
    "\n",
    "# If CCGT plants are built in regionS, their operation is displayed as heatmap\n",
    "if convSummary.loc[(\"Gas power plants\", \"capacity\", \"[GW$_{el}$]\"), \"regionS\"] > 0:\n",
    "    fig, ax = fn.plotOperationColorMap(\n",
    "        esM,\n",
    "        \"Gas power plants\",\n",
    "        \"regionS\",\n",
    "        figsize=(5, 3),\n",
    "        xlabel=\"Day of the year\",\n",
    "        ylabel=\"Hour of the day\",\n",
    "        zlabel=\"Operation\\nin regionS\\n[GW]\",\n",
    "        orientation=\"vertical\",\n",
    "    )"
   ]
  },
  {
   "cell_type": "markdown",
   "metadata": {},
   "source": [
    "### Batteries"
   ]
  },
  {
   "cell_type": "code",
   "execution_count": null,
   "metadata": {
    "code_folding": [],
    "tags": [
     "nbval-skip"
    ]
   },
   "outputs": [],
   "source": [
    "# If batteries are built, their capacities are displayed in a geo-referenced plot\n",
    "if storSummary.loc[(\"Batteries\", \"capacity\", \"[GW$_{el}$*h]\")].sum() > 0:\n",
    "    fig, ax = fn.plotLocationalColorMap(\n",
    "        esM,\n",
    "        \"Batteries\",\n",
    "        \"regions.shp\",\n",
    "        \"regionName\",\n",
    "        perArea=False,\n",
    "        zlabel=\"Capacity\\n[GWh]\\n\",\n",
    "        figsize=(4, 4),\n",
    "    )\n",
    "else:\n",
    "    print(\"No batteries built.\")\n",
    "\n",
    "# If batteries are built in regionS, their storage inventory is displayed as heatmap\n",
    "if storSummary.loc[(\"Batteries\", \"capacity\", \"[GW$_{el}$*h]\"), \"regionN\"] > 0:\n",
    "    fig, ax = fn.plotOperationColorMap(\n",
    "        esM,\n",
    "        \"Batteries\",\n",
    "        \"regionN\",\n",
    "        figsize=(5, 3),\n",
    "        xlabel=\"Day of the year\",\n",
    "        ylabel=\"Hour of the day\",\n",
    "        zlabel=\"State of charge\\nin regionN\\n[GW]\",\n",
    "        variableName=\"stateOfChargeOperationVariablesOptimum\",\n",
    "        orientation=\"vertical\",\n",
    "    )\n",
    "\n",
    "# If batteries are built in regionS, their storage inventory is displayed as heatmap\n",
    "if storSummary.loc[(\"Batteries\", \"capacity\", \"[GW$_{el}$*h]\"), \"regionS\"] > 0:\n",
    "    fig, ax = fn.plotOperationColorMap(\n",
    "        esM,\n",
    "        \"Batteries\",\n",
    "        \"regionS\",\n",
    "        figsize=(5, 3),\n",
    "        xlabel=\"Day of the year\",\n",
    "        ylabel=\"Hour of the day\",\n",
    "        zlabel=\"State of charge\\nin regionS\\n[GW]\",\n",
    "        variableName=\"stateOfChargeOperationVariablesOptimum\",\n",
    "        orientation=\"vertical\",\n",
    "    )"
   ]
  },
  {
   "cell_type": "markdown",
   "metadata": {},
   "source": [
    "### AC cables"
   ]
  },
  {
   "cell_type": "code",
   "execution_count": null,
   "metadata": {
    "tags": [
     "nbval-skip"
    ]
   },
   "outputs": [],
   "source": [
    "# The built AC cable capacities are displayed\n",
    "fig, ax = fn.plotLocations(\"regions.shp\", indexColumn=\"regionName\")\n",
    "fig, ax = fn.plotTransmission(\n",
    "    esM,\n",
    "    \"AC cables\",\n",
    "    \"lines.shp\",\n",
    "    loc0=\"loc0\",\n",
    "    loc1=\"loc1\",\n",
    "    fig=fig,\n",
    "    ax=ax,\n",
    "    cbHeight=0.4,\n",
    ")"
   ]
  },
  {
   "cell_type": "markdown",
   "metadata": {},
   "source": [
    "### Electricity demand"
   ]
  },
  {
   "cell_type": "code",
   "execution_count": null,
   "metadata": {},
   "outputs": [],
   "source": [
    "# The electricity demand time series in regionN is displayed\n",
    "fig, ax = fn.plotOperationColorMap(\n",
    "    esM,\n",
    "    \"Electricity demand\",\n",
    "    \"regionN\",\n",
    "    figsize=(5, 3),\n",
    "    xlabel=\"Day of the year\",\n",
    "    ylabel=\"Hour of the day\",\n",
    "    zlabel=\"Demand\\nin regionN\\n[GW]\",\n",
    "    orientation=\"vertical\",\n",
    ")\n",
    "\n",
    "# The electricity demand time series in regionS is displayed\n",
    "fig, ax = fn.plotOperationColorMap(\n",
    "    esM,\n",
    "    \"Electricity demand\",\n",
    "    \"regionS\",\n",
    "    figsize=(5, 3),\n",
    "    xlabel=\"Day of the year\",\n",
    "    ylabel=\"Hour of the day\",\n",
    "    zlabel=\"Demand\\nin regionS\\n[GW]\",\n",
    "    orientation=\"vertical\",\n",
    ")"
   ]
  },
  {
   "cell_type": "code",
   "execution_count": null,
   "metadata": {},
   "outputs": [],
   "source": []
  }
 ],
 "metadata": {
  "jupytext": {
   "encoding": "# -*- coding: utf-8 -*-",
   "formats": "ipynb,py:percent",
   "notebook_metadata_filter": "-all"
  },
  "kernelspec": {
   "display_name": "Python 3",
   "language": "python",
   "name": "python3"
  },
  "language_info": {
   "codemirror_mode": {
    "name": "ipython",
    "version": 3
   },
   "file_extension": ".py",
   "mimetype": "text/x-python",
   "name": "python",
   "nbconvert_exporter": "python",
   "pygments_lexer": "ipython3",
   "version": "3.8.6"
  },
  "toc": {
   "base_numbering": 1,
   "nav_menu": {
    "height": "431px",
    "width": "510px"
   },
   "number_sections": true,
   "sideBar": true,
   "skip_h1_title": false,
   "title_cell": "Table of Contents",
   "title_sidebar": "Contents",
   "toc_cell": false,
   "toc_position": {
    "height": "calc(100% - 180px)",
    "left": "10px",
    "top": "150px",
    "width": "399px"
   },
   "toc_section_display": true,
   "toc_window_display": true
  }
 },
 "nbformat": 4,
 "nbformat_minor": 4
}
