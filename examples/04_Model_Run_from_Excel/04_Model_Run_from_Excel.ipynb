{
 "cells": [
  {
   "cell_type": "markdown",
   "metadata": {},
   "source": [
    "# Using Excel for parameter input and model runs\n",
    "\n",
    "Besides using a python script or a jupyter notebook it is also possible to read and run a model using excel files.\n",
    "\n",
    "The *energySystemModelRunFromExcel()* function reads a model from excel, optimizes it and stores it to an excel file.\n",
    "\n",
    "The *readEnergySystemModelFromExcel()* function reads a model from excel.\n",
    "\n",
    "The model run can also be started on double-klicking on the run.bat Windows batch script in the folder where this notebook is located (still requires that a Python version, the FINE package and an optmization solver are installed).\n",
    "\n",
    "Moreover, it is possible to run the model inside the Excel file with a VBA Macro (see scenarioInputWithMacro.xlsx)"
   ]
  },
  {
   "cell_type": "markdown",
   "metadata": {},
   "source": [
    "# Import ETHOS.FINE package\n"
   ]
  },
  {
   "cell_type": "code",
   "execution_count": 1,
   "metadata": {},
   "outputs": [],
   "source": [
    "import fine as fn\n",
    "\n",
    "%load_ext autoreload\n",
    "%autoreload 2"
   ]
  },
  {
   "cell_type": "markdown",
   "metadata": {},
   "source": [
    "# Call energySystemModelRunFromExcel function"
   ]
  },
  {
   "cell_type": "markdown",
   "metadata": {},
   "source": [
    "### Read model from excel file, optimize and store to excel file\n",
    "Checkout the output excel file in the folder where this notebook is located"
   ]
  },
  {
   "cell_type": "code",
   "execution_count": 2,
   "metadata": {
    "tags": [
     "nbval-skip"
    ]
   },
   "outputs": [
    {
     "name": "stdout",
     "output_type": "stream",
     "text": [
      "The distances of a component are set to a normalized value of 1.\n",
      "\n",
      "Clustering time series data with 3 typical periods and 24 time steps per period \n",
      "further clustered to 12 segments per period...\n",
      "\t\t(7.6881 sec)\n",
      "\n",
      "Time series aggregation specifications:\n",
      "Number of typical periods:3, number of time steps per period:24, number of segments per period:12\n",
      "\n",
      "Declaring sets, variables and constraints for SourceSinkModel\n",
      "\tdeclaring sets... \n",
      "\tdeclaring variables... \n",
      "\tdeclaring constraints... \n",
      "\t\t(0.2727 sec)\n",
      "\n",
      "Declaring sets, variables and constraints for TransmissionModel\n",
      "\tdeclaring sets... \n",
      "\tdeclaring variables... \n",
      "\tdeclaring constraints... \n",
      "\t\t(0.2163 sec)\n",
      "\n",
      "Declaring sets, variables and constraints for ConversionModel\n",
      "\tdeclaring sets... \n",
      "\tdeclaring variables... \n",
      "\tdeclaring constraints... \n",
      "\t\t(0.0470 sec)\n",
      "\n",
      "Declaring sets, variables and constraints for StorageModel\n",
      "\tdeclaring sets... \n",
      "\tdeclaring variables... \n",
      "\tdeclaring constraints... \n",
      "\t\t(1.4540 sec)\n",
      "\n",
      "Declaring shared potential constraint...\n",
      "\t\t(0.0020 sec)\n",
      "\n",
      "Declaring linked component quantity constraint...\n",
      "\t\t(0.0000 sec)\n",
      "\n",
      "Declaring commodity balances...\n",
      "\t\t(0.1118 sec)\n",
      "\n",
      "\t\t(0.0000 sec)\n",
      "\n",
      "Declaring objective function...\n",
      "\t\t(1.0623 sec)\n",
      "\n",
      "Either solver not selected or specified solver not available.gurobi is set as solver.\n",
      "Using license file C:\\Users\\t.gross\\gurobi.lic\n",
      "Academic license - for non-commercial use only\n",
      "Read LP format model from file C:\\Users\\T58C8~1.GRO\\AppData\\Local\\Temp\\tmphnbmj2s5.pyomo.lp\n",
      "Reading time = 0.12 seconds\n",
      "x1: 47438 rows, 18781 columns, 130323 nonzeros\n",
      "Changed value of parameter QCPDual to 1\n",
      "   Prev: 0  Min: 0  Max: 1  Default: 0\n",
      "Changed value of parameter Threads to 3\n",
      "   Prev: 0  Min: 0  Max: 1024  Default: 0\n",
      "Parameter logfile unchanged\n",
      "   Value:   Default: \n",
      "Gurobi Optimizer version 9.0.1 build v9.0.1rc0 (win64)\n",
      "Optimize a model with 47438 rows, 18781 columns and 130323 nonzeros\n",
      "Model fingerprint: 0x404aa04c\n",
      "Variable types: 18743 continuous, 38 integer (28 binary)\n",
      "Coefficient statistics:\n",
      "  Matrix range     [2e-05, 5e+02]\n",
      "  Objective range  [2e-06, 3e-01]\n",
      "  Bounds range     [4e-02, 6e+04]\n",
      "  RHS range        [4e-02, 5e+01]\n",
      "Presolve removed 18590 rows and 8541 columns\n",
      "Presolve time: 0.19s\n",
      "Presolved: 28848 rows, 10240 columns, 94244 nonzeros\n",
      "Variable types: 10216 continuous, 24 integer (14 binary)\n",
      "\n",
      "Root relaxation: objective 4.352336e+01, 23603 iterations, 4.48 seconds\n",
      "\n",
      "    Nodes    |    Current Node    |     Objective Bounds      |     Work\n",
      " Expl Unexpl |  Obj  Depth IntInf | Incumbent    BestBd   Gap | It/Node Time\n",
      "\n",
      "     0     0   43.52336    0   12          -   43.52336      -     -    4s\n",
      "H    0     0                      44.0501471   43.52336  1.20%     -    5s\n",
      "     0     0   43.52349    0    4   44.05015   43.52349  1.20%     -    5s\n",
      "H    0     0                      43.6827794   43.52349  0.36%     -    6s\n",
      "     0     0   43.52351    0    3   43.68278   43.52351  0.36%     -    6s\n",
      "     0     0   43.52351    0    1   43.68278   43.52351  0.36%     -    6s\n",
      "H    0     0                      43.5235348   43.52351  0.00%     -    6s\n",
      "\n",
      "Cutting planes:\n",
      "  Gomory: 6\n",
      "  MIR: 14\n",
      "  Flow cover: 187\n",
      "  Relax-and-lift: 10\n",
      "\n",
      "Explored 1 nodes (23834 simplex iterations) in 6.78 seconds\n",
      "Thread count was 3 (of 8 available processors)\n",
      "\n",
      "Solution count 3: 43.5235 43.6828 44.0501 \n",
      "\n",
      "Optimal solution found (tolerance 1.00e-04)\n",
      "Warning: max constraint violation (6.0876e-06) exceeds tolerance\n",
      "Best objective 4.352353478585e+01, best bound 4.352351328296e+01, gap 0.0000%\n",
      "\n",
      "Status: ok\n",
      "Return code: 0\n",
      "Message: Model was solved to optimality (subject to tolerances), and an optimal solution is available.\n",
      "Termination condition: optimal\n",
      "Termination message: Model was solved to optimality (subject to tolerances), and an optimal solution is available.\n",
      "Wall time: 6.783330917358398\n",
      "Error rc: 0\n",
      "Time: 7.441400527954102\n",
      "\n",
      "\n",
      "Name: x1\n",
      "Lower bound: 43.523513282964586\n",
      "Upper bound: 43.52353478584742\n",
      "Number of objectives: 1\n",
      "Number of constraints: 47438\n",
      "Number of variables: 18781\n",
      "Number of binary variables: 28\n",
      "Number of integer variables: 38\n",
      "Number of continuous variables: 18743\n",
      "Number of nonzeros: 130323\n",
      "Sense: minimize\n",
      "\n",
      "Solve time: 9.179068326950073 sec.\n",
      "\n",
      "Processing optimization output...\n",
      "for SourceSinkModel ...    (1.4144sec)\n",
      "for TransmissionModel ...  (1.1809sec)\n",
      "for ConversionModel ...    (0.8107sec)\n"
     ]
    },
    {
     "name": "stderr",
     "output_type": "stream",
     "text": [
      "C:\\Users\\t.gross\\Documents\\Programming\\Jugit\\fine\\fine\\storage.py:1984: UserWarning: Charge and discharge at the same time for component Salt caverns (hydrogen)\n",
      "  warnings.warn(\n"
     ]
    },
    {
     "name": "stdout",
     "output_type": "stream",
     "text": [
      "for StorageModel ...       (1.5466sec)\n",
      "\t\t(4.9915 sec)\n",
      "\n",
      "\n",
      "Writing output to Excel... \n",
      "\tProcessing SourceSinkModel ...\n",
      "\tProcessing TransmissionModel ...\n",
      "\tProcessing ConversionModel ...\n",
      "\tProcessing StorageModel ...\n",
      "\tSaving file...\n",
      "Done. (28.1254 sec)\n"
     ]
    }
   ],
   "source": [
    "esM = fn.energySystemModelRunFromExcel()"
   ]
  },
  {
   "cell_type": "markdown",
   "metadata": {},
   "source": [
    "### Read only"
   ]
  },
  {
   "cell_type": "code",
   "execution_count": 3,
   "metadata": {},
   "outputs": [
    {
     "name": "stdout",
     "output_type": "stream",
     "text": [
      "The distances of a component are set to a normalized value of 1.\n"
     ]
    }
   ],
   "source": [
    "esM, esMData = fn.readEnergySystemModelFromExcel()"
   ]
  },
  {
   "cell_type": "code",
   "execution_count": null,
   "metadata": {},
   "outputs": [],
   "source": []
  }
 ],
 "metadata": {
  "jupytext": {
   "formats": "ipynb,py:percent",
   "main_language": "python",
   "notebook_metadata_filter": "-all"
  },
  "kernelspec": {
   "display_name": "Python 3 (ipykernel)",
   "language": "python",
   "name": "python3"
  },
  "language_info": {
   "codemirror_mode": {
    "name": "ipython",
    "version": 3
   },
   "file_extension": ".py",
   "mimetype": "text/x-python",
   "name": "python",
   "nbconvert_exporter": "python",
   "pygments_lexer": "ipython3",
   "version": "3.10.13"
  }
 },
 "nbformat": 4,
 "nbformat_minor": 4
}
