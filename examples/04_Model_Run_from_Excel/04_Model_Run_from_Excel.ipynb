{
 "cells": [
  {
   "cell_type": "markdown",
   "metadata": {},
   "source": [
    "# Using Excel for parameter input and model runs\n",
    "\n",
    "Besides using a python script or a jupyter notebook it is also possible to read and run a model using excel files.\n",
    "\n",
    "The *energySystemModelRunFromExcel()* function reads a model from excel, optimizes it and stores it to an excel file.\n",
    "\n",
    "The *readEnergySystemModelFromExcel()* function reads a model from excel.\n",
    "\n",
    "The model run can also be started on double-klicking on the run.bat Windows batch script in the folder where this notebook is located (still requires that a Python version, the FINE package and an optmization solver are installed).\n",
    "\n",
    "Moreover, it is possible to run the model inside the Excel file with a VBA Macro (see scenarioInputWithMacro.xlsx)"
   ]
  },
  {
   "cell_type": "markdown",
   "metadata": {},
   "source": [
    "# Import ETHOS.FINE package\n"
   ]
  },
  {
   "cell_type": "code",
   "execution_count": 1,
   "metadata": {},
   "outputs": [],
   "source": [
    "import fine as fn\n",
    "\n",
    "%load_ext autoreload\n",
    "%autoreload 2"
   ]
  },
  {
   "cell_type": "markdown",
   "metadata": {},
   "source": [
    "# Call energySystemModelRunFromExcel function"
   ]
  },
  {
   "cell_type": "markdown",
   "metadata": {},
   "source": [
    "### Read model from excel file, optimize and store to excel file\n",
    "Checkout the output excel file in the folder where this notebook is located"
   ]
  },
  {
   "cell_type": "code",
   "execution_count": 3,
   "metadata": {
    "tags": [
     "nbval-skip"
    ]
   },
   "outputs": [
    {
     "name": "stdout",
     "output_type": "stream",
     "text": [
      "The distances of a component are set to a normalized value of 1.\n",
      "\n",
      "Clustering time series data with 3 typical periods and 24 time steps per period \n",
      "further clustered to 12 segments per period...\n",
      "\t\t(5.4815 sec)\n",
      "\n",
      "Time series aggregation specifications:\n",
      "Number of typical periods:3, number of time steps per period:24, number of segments per period:12\n",
      "\n",
      "Declaring sets, variables and constraints for SourceSinkModel\n",
      "\tdeclaring sets... \n",
      "\tdeclaring variables... \n",
      "\tdeclaring constraints... \n",
      "\t\t(0.1062 sec)\n",
      "\n",
      "Declaring sets, variables and constraints for ConversionModel\n",
      "\tdeclaring sets... \n",
      "\tdeclaring variables... \n",
      "\tdeclaring constraints... \n",
      "\t\t(0.0319 sec)\n",
      "\n",
      "Declaring sets, variables and constraints for StorageModel\n",
      "\tdeclaring sets... \n",
      "\tdeclaring variables... \n",
      "\tdeclaring constraints... \n",
      "\t\t(1.1048 sec)\n",
      "\n",
      "Declaring sets, variables and constraints for TransmissionModel\n",
      "\tdeclaring sets... \n",
      "\tdeclaring variables... \n",
      "\tdeclaring constraints... \n",
      "\t\t(0.0617 sec)\n",
      "\n",
      "Declaring shared potential constraint...\n",
      "\t\t(0.0010 sec)\n",
      "\n",
      "Declaring linked component quantity constraint...\n",
      "\t\t(0.0000 sec)\n",
      "\n",
      "Declaring commodity balances...\n",
      "\t\t(0.0607 sec)\n",
      "\n",
      "\t\t(0.0000 sec)\n",
      "\n",
      "Declaring objective function...\n",
      "\t\t(1.0600 sec)\n",
      "\n",
      "Either solver not selected or specified solver not available.gurobi is set as solver.\n",
      "Set parameter ServerPassword\n",
      "Set parameter TSPort to value 41955\n",
      "Set parameter GURO_PAR_SPECIAL\n",
      "Set parameter TokenServer to value \"iek3028\"\n",
      "Read LP format model from file /tmp/tmp9t3vxo2e.pyomo.lp\n",
      "Reading time = 0.08 seconds\n",
      "x1: 47437 rows, 18781 columns, 129747 nonzeros\n",
      "Set parameter QCPDual to value 1\n",
      "Set parameter Threads to value 3\n",
      "Gurobi Optimizer version 11.0.2 build v11.0.2rc0 (linux64 - \"Rocky Linux 8.8 (Green Obsidian)\")\n",
      "\n",
      "CPU model: Intel(R) Xeon(R) Gold 6154 CPU @ 3.00GHz, instruction set [SSE2|AVX|AVX2|AVX512]\n",
      "Thread count: 36 physical cores, 72 logical processors, using up to 3 threads\n",
      "\n",
      "Optimize a model with 47437 rows, 18781 columns and 129747 nonzeros\n",
      "Model fingerprint: 0x916792b7\n",
      "Variable types: 18743 continuous, 38 integer (28 binary)\n",
      "Coefficient statistics:\n",
      "  Matrix range     [2e-05, 5e+02]\n",
      "  Objective range  [2e-06, 3e-01]\n",
      "  Bounds range     [4e-02, 6e+04]\n",
      "  RHS range        [4e-02, 2e+01]\n",
      "Presolve removed 18590 rows and 8541 columns\n",
      "Presolve time: 0.18s\n",
      "Presolved: 28847 rows, 10240 columns, 93956 nonzeros\n",
      "Variable types: 10216 continuous, 24 integer (14 binary)\n",
      "\n",
      "Root relaxation: objective 3.676005e+01, 23482 iterations, 4.64 seconds (5.14 work units)\n",
      "\n",
      "    Nodes    |    Current Node    |     Objective Bounds      |     Work\n",
      " Expl Unexpl |  Obj  Depth IntInf | Incumbent    BestBd   Gap | It/Node Time\n",
      "\n",
      "*    0     0               0      36.7600501   36.76005  0.00%     -    4s\n",
      "\n",
      "Explored 1 nodes (23482 simplex iterations) in 4.99 seconds (5.61 work units)\n",
      "Thread count was 3 (of 72 available processors)\n",
      "\n",
      "Solution count 1: 36.7601 \n",
      "\n",
      "Optimal solution found (tolerance 1.00e-04)\n",
      "Best objective 3.676005014743e+01, best bound 3.676005014743e+01, gap 0.0000%\n",
      "\n",
      "Status: ok\n",
      "Return code: 0\n",
      "Message: Model was solved to optimality (subject to tolerances), and an optimal solution is available.\n",
      "Termination condition: optimal\n",
      "Termination message: Model was solved to optimality (subject to tolerances), and an optimal solution is available.\n",
      "Wall time: 4.98858904838562\n",
      "Error rc: 0\n",
      "Time: 5.384066343307495\n",
      "\n",
      "\n",
      "Name: x1\n",
      "Lower bound: 36.76005014742514\n",
      "Upper bound: 36.76005014742515\n",
      "Number of objectives: 1\n",
      "Number of constraints: 47437\n",
      "Number of variables: 18781\n",
      "Number of binary variables: 28\n",
      "Number of integer variables: 38\n",
      "Number of continuous variables: 18743\n",
      "Number of nonzeros: 129747\n",
      "Sense: minimize\n",
      "\n",
      "Solve time: 6.108403205871582 sec.\n",
      "\n",
      "Processing optimization output...\n",
      "for SourceSinkModel ...    (0.9193sec)\n",
      "for ConversionModel ...    (0.3007sec)\n",
      "for StorageModel ...       (0.8924sec)\n",
      "for TransmissionModel ...  (0.7153sec)\n",
      "\t\t(2.8480 sec)\n",
      "\n",
      "\n",
      "Writing output to Excel... \n",
      "\tProcessing SourceSinkModel ...\n",
      "\tProcessing ConversionModel ...\n",
      "\tProcessing StorageModel ...\n",
      "\tProcessing TransmissionModel ...\n",
      "\tSaving file...\n",
      "Done. (11.2157 sec)\n"
     ]
    }
   ],
   "source": [
    "esM = fn.energySystemModelRunFromExcel()"
   ]
  },
  {
   "cell_type": "markdown",
   "metadata": {},
   "source": [
    "### Read only"
   ]
  },
  {
   "cell_type": "code",
   "execution_count": 4,
   "metadata": {},
   "outputs": [
    {
     "name": "stdout",
     "output_type": "stream",
     "text": [
      "The distances of a component are set to a normalized value of 1.\n"
     ]
    }
   ],
   "source": [
    "esM, esMData = fn.readEnergySystemModelFromExcel()"
   ]
  },
  {
   "cell_type": "code",
   "execution_count": null,
   "metadata": {},
   "outputs": [],
   "source": []
  }
 ],
 "metadata": {
  "jupytext": {
   "formats": "ipynb,py:percent",
   "main_language": "python",
   "notebook_metadata_filter": "-all"
  },
  "kernelspec": {
   "display_name": "fine",
   "language": "python",
   "name": "python3"
  },
  "language_info": {
   "codemirror_mode": {
    "name": "ipython",
    "version": 3
   },
   "file_extension": ".py",
   "mimetype": "text/x-python",
   "name": "python",
   "nbconvert_exporter": "python",
   "pygments_lexer": "ipython3",
   "version": "3.12.4"
  }
 },
 "nbformat": 4,
 "nbformat_minor": 4
}
