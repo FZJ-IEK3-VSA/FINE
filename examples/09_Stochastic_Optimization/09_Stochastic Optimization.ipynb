{
    "cells": [
        {
            "cell_type": "markdown",
            "metadata": {},
            "source": [
                "# Workflow for a stoachstic opimization\n",
                "\n",
                "In this example of the ETHOS.FINE framework, a stochastic optimization is performed. It allows  a energy system optimization to consider several years of operation input (e.g. different wind power due to different weather conditions) in the optimization of the energy system design. By optimizing a system considering several years of input data for operation, a more robust energy system is achieved."
            ]
        },
        {
            "cell_type": "markdown",
            "metadata": {},
            "source": [
                "## 1. Import packages"
            ]
        },
        {
            "cell_type": "code",
            "execution_count": 1,
            "metadata": {},
            "outputs": [],
            "source": [
                "import fine as fn\n",
                "import numpy as np\n",
                "import pandas as pd"
            ]
        },
        {
            "cell_type": "markdown",
            "metadata": {},
            "source": [
                "## 2. Initialize energy system model\n",
                "Initialize an esM which has two years.\n"
            ]
        },
        {
            "cell_type": "code",
            "execution_count": 2,
            "metadata": {},
            "outputs": [],
            "source": [
                "numberOfTimeSteps = 4\n",
                "hoursPerTimeStep = 2190\n",
                "numberOfYears = 2  # new test, before =1\n",
                "investmentPeriodInterval = 1\n",
                "\n",
                "# Create an energy system model instance and set stochastic model optimization\n",
                "esM = fn.EnergySystemModel(\n",
                "    stochasticModel=True,\n",
                "    locations={\"PerfectLand\"},\n",
                "    commodities={\"electricity\"},\n",
                "    numberOfTimeSteps=numberOfTimeSteps,\n",
                "    commodityUnitsDict={\"electricity\": r\"kW$_{el}$\"},\n",
                "    hoursPerTimeStep=hoursPerTimeStep,\n",
                "    costUnit=\"1 Euro\",\n",
                "    numberOfInvestmentPeriods=numberOfYears,\n",
                "    investmentPeriodInterval=investmentPeriodInterval,\n",
                "    lengthUnit=\"km\",\n",
                "    verboseLogLevel=2,\n",
                ")"
            ]
        },
        {
            "cell_type": "markdown",
            "metadata": {},
            "source": [
                "## 3. Add a wind source\n",
                "Either pass the parameters in a dict per investment period (modification per investment period possible) or constant (only one dataframe, value ...)"
            ]
        },
        {
            "cell_type": "code",
            "execution_count": 3,
            "metadata": {},
            "outputs": [],
            "source": [
                "windOperationRateMax = {}\n",
                "windOperationRateMax[0] = pd.DataFrame(\n",
                "    [\n",
                "        np.array(\n",
                "            [\n",
                "                0.4,\n",
                "                0.4,\n",
                "                0.6,\n",
                "                0.6,\n",
                "            ]\n",
                "        )\n",
                "    ],\n",
                "    index=[\"PerfectLand\"],\n",
                ").T\n",
                "windOperationRateMax[1] = pd.DataFrame(\n",
                "    [\n",
                "        np.array(\n",
                "            [\n",
                "                0.2,\n",
                "                0.2,\n",
                "                0.3,\n",
                "                0.5,\n",
                "            ]\n",
                "        )\n",
                "    ],\n",
                "    index=[\"PerfectLand\"],\n",
                ").T\n",
                "# different opexPerOperation per investmentperiod\n",
                "windOpexPerOperation = {}\n",
                "windOpexPerOperation[0] = 0.01\n",
                "windOpexPerOperation[1] = 0.02\n",
                "\n",
                "esM.add(\n",
                "    fn.Source(\n",
                "        esM=esM,\n",
                "        name=\"Wind\",\n",
                "        commodity=\"electricity\",\n",
                "        hasCapacityVariable=True,\n",
                "        operationRateMax=windOperationRateMax,\n",
                "        capacityMax=4e6,\n",
                "        investPerCapacity=2 * 2190,\n",
                "        opexPerCapacity=0,\n",
                "        interestRate=0,\n",
                "        opexPerOperation=windOpexPerOperation,  # 0.01,\n",
                "        economicLifetime=1,\n",
                "    )\n",
                ")"
            ]
        },
        {
            "cell_type": "markdown",
            "metadata": {},
            "source": [
                "## 3. Add a electricity market"
            ]
        },
        {
            "cell_type": "code",
            "execution_count": 4,
            "metadata": {},
            "outputs": [],
            "source": [
                "costs = pd.DataFrame(\n",
                "    [np.array([ 1, 1, 1, 1, ] )],\n",
                "    index=[\"PerfectLand\"],\n",
                ").T\n",
                "\n",
                "\n",
                "revenues = {}\n",
                "revenues[0] = pd.DataFrame(\n",
                "    [\n",
                "        np.array(\n",
                "            [\n",
                "                0.0,\n",
                "                0.0,\n",
                "                0.0,\n",
                "                0.0,\n",
                "            ]\n",
                "        )\n",
                "    ],\n",
                "    index=[\"PerfectLand\"],\n",
                ").T\n",
                "revenues[1] = pd.DataFrame(\n",
                "    [\n",
                "        np.array(\n",
                "            [\n",
                "                0.0,\n",
                "                0.0,\n",
                "                0.0,\n",
                "                0.0,\n",
                "            ]\n",
                "        )\n",
                "    ],\n",
                "    index=[\"PerfectLand\"],\n",
                ").T\n",
                "\n",
                "maxpurchase = {}\n",
                "maxpurchase[0] = pd.DataFrame(\n",
                "    [\n",
                "        np.array(\n",
                "            [\n",
                "                0.5e3,\n",
                "                0.5e3,\n",
                "                4e3,\n",
                "                4e3,\n",
                "            ]\n",
                "        )\n",
                "    ],\n",
                "    index=[\"PerfectLand\"],\n",
                ").T\n",
                "maxpurchase[1] = pd.DataFrame(\n",
                "    [\n",
                "        np.array(\n",
                "            [\n",
                "                0.5e3,\n",
                "                0.5e3,\n",
                "                4e3,\n",
                "                4e3,\n",
                "            ]\n",
                "        )\n",
                "    ],\n",
                "    index=[\"PerfectLand\"],\n",
                ").T"
            ]
        },
        {
            "cell_type": "code",
            "execution_count": 5,
            "metadata": {},
            "outputs": [],
            "source": [
                "esM.add(\n",
                "    fn.Source(\n",
                "        esM=esM,\n",
                "        name=\"Electricity market\",\n",
                "        commodity=\"electricity\",\n",
                "        hasCapacityVariable=False,\n",
                "        operationRateMax=maxpurchase,\n",
                "        commodityCostTimeSeries=costs,\n",
                "        # commodityCost= 1,\n",
                "        commodityRevenueTimeSeries=revenues,\n",
                "    )\n",
                ")  # eur/kWh"
            ]
        },
        {
            "cell_type": "markdown",
            "metadata": {},
            "source": [
                "## 5. Add a industry sink"
            ]
        },
        {
            "cell_type": "code",
            "execution_count": 6,
            "metadata": {},
            "outputs": [],
            "source": [
                "revenuesDemand = {}\n",
                "revenuesDemand[0] = pd.DataFrame(\n",
                "    [\n",
                "        np.array(\n",
                "            [\n",
                "                0.1,\n",
                "                0.1,\n",
                "                0.1,\n",
                "                0.1,\n",
                "            ]\n",
                "        )\n",
                "    ],\n",
                "    index=[\"PerfectLand\"],\n",
                ").T\n",
                "revenuesDemand[1] = pd.DataFrame(\n",
                "    [\n",
                "        np.array(\n",
                "            [\n",
                "                0.2,\n",
                "                0.2,\n",
                "                0.2,\n",
                "                0.2,\n",
                "            ]\n",
                "        )\n",
                "    ],\n",
                "    index=[\"PerfectLand\"],\n",
                ").T\n",
                "\n",
                "demand = {}\n",
                "demand[0] = pd.DataFrame(\n",
                "    [\n",
                "        np.array(\n",
                "            [\n",
                "                2e3,\n",
                "                1e3,\n",
                "                1e3,\n",
                "                1e3,\n",
                "            ]\n",
                "        )\n",
                "    ],\n",
                "    index=[\"PerfectLand\"],\n",
                ").T  # first investmentperiod\n",
                "demand[1] = pd.DataFrame(\n",
                "    [\n",
                "        np.array(\n",
                "            [\n",
                "                2e3,\n",
                "                1e3,\n",
                "                1e3,\n",
                "                1e3,\n",
                "            ]\n",
                "        )\n",
                "    ],\n",
                "    index=[\"PerfectLand\"],\n",
                ").T  # second investmentperiod\n",
                "\n",
                "esM.add(\n",
                "    fn.Sink(\n",
                "        esM=esM,\n",
                "        name=\"EDemand\",\n",
                "        commodity=\"electricity\",\n",
                "        hasCapacityVariable=False,\n",
                "        operationRateFix=demand,\n",
                "        commodityRevenueTimeSeries=revenuesDemand,  # new compared to original model\n",
                "    )\n",
                ")"
            ]
        },
        {
            "cell_type": "markdown",
            "metadata": {},
            "source": [
                "## 6. Optimize"
            ]
        },
        {
            "cell_type": "code",
            "execution_count": 7,
            "metadata": {},
            "outputs": [
                {
                    "name": "stdout",
                    "output_type": "stream",
                    "text": [
                        "GLPSOL: GLPK LP/MIP Solver, v4.65\n",
                        "Parameter(s) specified in the command line:\n",
                        " --write C:\\Users\\RAEF3F~1.MAI\\AppData\\Local\\Temp\\tmpjot3ih00.glpk.raw --wglp\n",
                        " C:\\Users\\RAEF3F~1.MAI\\AppData\\Local\\Temp\\tmp0rg09re0.glpk.glp --cpxlp C:\\Users\\RAEF3F~1.MAI\\AppData\\Local\\Temp\\tmp21dx5j_a.pyomo.lp\n",
                        "Reading problem data from 'C:\\Users\\RAEF3F~1.MAI\\AppData\\Local\\Temp\\tmp21dx5j_a.pyomo.lp'...\n",
                        "24 rows, 33 columns, 56 non-zeros\n",
                        "194 lines were read\n",
                        "Writing problem data to 'C:\\Users\\RAEF3F~1.MAI\\AppData\\Local\\Temp\\tmp0rg09re0.glpk.glp'...\n",
                        "169 lines were written\n",
                        "GLPK Simplex Optimizer, v4.65\n",
                        "24 rows, 33 columns, 56 non-zeros\n",
                        "Preprocessing...\n",
                        "9 rows, 10 columns, 18 non-zeros\n",
                        "Scaling...\n",
                        " A: min|aij| =  1.000e+00  max|aij| =  1.314e+03  ratio =  1.314e+03\n",
                        "GM: min|aij| =  9.834e-01  max|aij| =  1.017e+00  ratio =  1.034e+00\n",
                        "EQ: min|aij| =  9.691e-01  max|aij| =  1.000e+00  ratio =  1.032e+00\n",
                        "Constructing initial basis...\n",
                        "Size of triangular part is 9\n",
                        "      0: obj =   4.560000000e+03 inf =   7.075e+01 (4)\n",
                        "      4: obj =   3.456000000e+04 inf =   0.000e+00 (0)\n",
                        "*    11: obj =   2.914000000e+04 inf =   0.000e+00 (0)\n",
                        "OPTIMAL LP SOLUTION FOUND\n",
                        "Time used:   0.0 secs\n",
                        "Memory used: 0.0 Mb (50671 bytes)\n",
                        "Writing basic solution to 'C:\\Users\\RAEF3F~1.MAI\\AppData\\Local\\Temp\\tmpjot3ih00.glpk.raw'...\n",
                        "66 lines were written\n"
                    ]
                }
            ],
            "source": [
                "esM.optimize(timeSeriesAggregation=False, solver=\"glpk\")"
            ]
        },
        {
            "cell_type": "markdown",
            "metadata": {},
            "source": [
                "## 7. Get results of robust energy system, optimized for two years of operations"
            ]
        },
        {
            "cell_type": "code",
            "execution_count": 8,
            "metadata": {},
            "outputs": [
                {
                    "data": {
                        "text/plain": [
                            "3.42465753424658"
                        ]
                    },
                    "execution_count": 8,
                    "metadata": {},
                    "output_type": "execute_result"
                }
            ],
            "source": [
                "esM.getOptimizationSummary('SourceSinkModel').loc['Wind','capacity','[kW$_{el}$]']['PerfectLand']"
            ]
        }
    ],
    "metadata": {
        "kernelspec": {
            "display_name": "Python 3.6.13 64-bit ('FINE': conda)",
            "language": "python",
            "name": "python3"
        },
        "language_info": {
            "codemirror_mode": {
                "name": "ipython",
                "version": 3
            },
            "file_extension": ".py",
            "mimetype": "text/x-python",
            "name": "python",
            "nbconvert_exporter": "python",
            "pygments_lexer": "ipython3",
            "version": "3.6.13"
        },
        "orig_nbformat": 4,
        "vscode": {
            "interpreter": {
                "hash": "3b3e120b79c913712639f3b2eff463eb55bee233b12cecfca16b53280fccd0e9"
            }
        }
    },
    "nbformat": 4,
    "nbformat_minor": 2
}
