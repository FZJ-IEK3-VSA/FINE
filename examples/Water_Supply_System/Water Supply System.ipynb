{
 "cells": [
  {
   "cell_type": "code",
   "execution_count": null,
   "metadata": {},
   "outputs": [],
   "source": [
    "import FINE as fn\n",
    "import numpy as np\n",
    "import matplotlib.pyplot as plt\n",
    "import pandas as pd\n",
    "\n",
    "%load_ext autoreload\n",
    "%autoreload 2"
   ]
  },
  {
   "cell_type": "markdown",
   "metadata": {},
   "source": [
    "# Water supply of a small mountain village\n",
    "\n",
    "Two new houses (house 5 and 6) were built in a small mountain village in Utopia which requires an update of the existing clean water supply system of the village which now consists of 6 houses:\n",
    "\n",
    "<img src=\"MountainVillage.png\" style=\"width: 500px;\"/>\n",
    "\n",
    "\n",
    "### Water demand\n",
    "The demand for clean water occurs in spring between 5 am and 11 pm, in summer between 4 am and 12 pm, in autumn between 5 am and 11 pm and in winter between 6 am and 11 pm. The demand for one house assumes random values between 0 to 1 Uh (Unit*hour) during the demand hours. These values are uniformly distributed and are 0 outside the demand hours.\n",
    "\n",
    "### Water supply \n",
    "The water supply comes from a small tributary of a glacier river, which provides more water in summer and less in winter: the profile is given for each hour of the year as\n",
    "\n",
    "f(t) = 8 \\* sin(π*t/8760) + g(t)    \n",
    "    \n",
    "where g(t) is a uniformly distributed random value between 0 and 4.\n",
    "\n",
    "### Water storage\n",
    "Clean water can be stored in a water tank (newly purchased). The invest per capacity is 100€/Uh, the economic lifetime is 20 years.\n",
    "\n",
    "### Water treatment\n",
    "The river water is converted to clean water in a water treatment plant (newly purchased). The invest per capacity is 7000€/U, the economic lifetime is 20 years. Further, it needs some electricity wherefore it has operational cost of 0.05 €/U.\n",
    "\n",
    "### Water transmission\n",
    "The clean water can be transported via water pipes, where some already exist between the houses 1-4, the water treatment plant and the\n",
    "water tank, however new ones might need to\n",
    "be built to connect the newly built houses or reinforce the transmission along the old pipes. The invest for new pipes per capacity is 100 €/(m\\*U), the invest if a new pipe route is built is 500 €/(m\\*U), the economic lifetime is 20 years.\n"
   ]
  },
  {
   "cell_type": "code",
   "execution_count": null,
   "metadata": {},
   "outputs": [],
   "source": [
    "locations = [\n",
    "    \"House 1\",\n",
    "    \"House 2\",\n",
    "    \"House 3\",\n",
    "    \"House 4\",\n",
    "    \"House 5\",\n",
    "    \"House 6\",\n",
    "    \"Node 1\",\n",
    "    \"Node 2\",\n",
    "    \"Node 3\",\n",
    "    \"Node 4\",\n",
    "    \"Water treatment\",\n",
    "    \"Water tank\",\n",
    "]\n",
    "commodityUnitDict = {\"clean water\": \"U\", \"river water\": \"U\"}\n",
    "commodities = {\"clean water\", \"river water\"}\n",
    "numberOfTimeSteps = 8760\n",
    "hoursPerTimeStep = 1"
   ]
  },
  {
   "cell_type": "code",
   "execution_count": null,
   "metadata": {},
   "outputs": [],
   "source": [
    "esM = fn.EnergySystemModel(\n",
    "    locations=set(locations),\n",
    "    commodities=commodities,\n",
    "    numberOfTimeSteps=8760,\n",
    "    commodityUnitsDict=commodityUnitDict,\n",
    "    hoursPerTimeStep=1,\n",
    "    costUnit=\"1e3 Euro\",\n",
    "    lengthUnit=\"m\",\n",
    ")"
   ]
  },
  {
   "cell_type": "markdown",
   "metadata": {},
   "source": [
    "# Source"
   ]
  },
  {
   "cell_type": "code",
   "execution_count": null,
   "metadata": {},
   "outputs": [],
   "source": [
    "riverFlow = pd.DataFrame(np.zeros((8760, 12)), columns=locations)\n",
    "np.random.seed(42)\n",
    "riverFlow.loc[:, \"Water treatment\"] = np.random.uniform(0, 4, (8760)) + 8 * np.sin(\n",
    "    np.pi * np.arange(8760) / 8760\n",
    ")"
   ]
  },
  {
   "cell_type": "code",
   "execution_count": null,
   "metadata": {},
   "outputs": [],
   "source": [
    "esM.add(\n",
    "    fn.Source(\n",
    "        esM=esM,\n",
    "        name=\"River\",\n",
    "        commodity=\"river water\",\n",
    "        hasCapacityVariable=False,\n",
    "        operationRateMax=riverFlow,\n",
    "        opexPerOperation=0.05,\n",
    "    )\n",
    ")"
   ]
  },
  {
   "cell_type": "markdown",
   "metadata": {},
   "source": [
    "# Conversion"
   ]
  },
  {
   "cell_type": "code",
   "execution_count": null,
   "metadata": {},
   "outputs": [],
   "source": [
    "eligibility = pd.Series([0, 0, 0, 0, 0, 0, 0, 0, 0, 0, 1, 0], index=locations)\n",
    "esM.add(\n",
    "    fn.Conversion(\n",
    "        esM=esM,\n",
    "        name=\"Water treatment plant\",\n",
    "        physicalUnit=\"U\",\n",
    "        commodityConversionFactors={\"river water\": -1, \"clean water\": 1},\n",
    "        hasCapacityVariable=True,\n",
    "        locationalEligibility=eligibility,\n",
    "        investPerCapacity=7,\n",
    "        opexPerCapacity=0.02 * 7,\n",
    "        interestRate=0.08,\n",
    "        economicLifetime=20,\n",
    "    )\n",
    ")"
   ]
  },
  {
   "cell_type": "markdown",
   "metadata": {},
   "source": [
    "# Storage"
   ]
  },
  {
   "cell_type": "code",
   "execution_count": null,
   "metadata": {},
   "outputs": [],
   "source": [
    "eligibility = pd.Series([0, 0, 0, 0, 0, 0, 0, 0, 0, 0, 0, 1], index=locations)\n",
    "esM.add(\n",
    "    fn.Storage(\n",
    "        esM=esM,\n",
    "        name=\"Water tank\",\n",
    "        commodity=\"clean water\",\n",
    "        hasCapacityVariable=True,\n",
    "        chargeRate=1 / 24,\n",
    "        dischargeRate=1 / 24,\n",
    "        locationalEligibility=eligibility,\n",
    "        investPerCapacity=0.10,\n",
    "        opexPerCapacity=0.02 * 0.1,\n",
    "        interestRate=0.08,\n",
    "        economicLifetime=20,\n",
    "    )\n",
    ")"
   ]
  },
  {
   "cell_type": "markdown",
   "metadata": {},
   "source": [
    "# Transmission"
   ]
  },
  {
   "cell_type": "markdown",
   "metadata": {},
   "source": [
    "### Distances between eligible regions"
   ]
  },
  {
   "cell_type": "code",
   "execution_count": null,
   "metadata": {
    "scrolled": true,
    "tags": [
     "nbval-check-output"
    ]
   },
   "outputs": [],
   "source": [
    "distances = np.array(\n",
    "    [\n",
    "        [0, 0, 0, 0, 0, 0, 0, 0, 38, 0, 0, 0],\n",
    "        [0, 0, 0, 0, 0, 0, 0, 0, 40, 0, 0, 0],\n",
    "        [0, 0, 0, 0, 0, 0, 0, 38, 0, 0, 0, 0],\n",
    "        [0, 0, 0, 0, 0, 0, 0, 40, 0, 0, 0, 0],\n",
    "        [0, 0, 0, 0, 0, 0, 38, 0, 0, 0, 0, 0],\n",
    "        [0, 0, 0, 0, 0, 0, 40, 0, 0, 0, 0, 0],\n",
    "        [0, 0, 0, 0, 38, 40, 0, 105, 0, 0, 0, 0],\n",
    "        [0, 0, 38, 40, 0, 0, 105, 0, 100, 0, 0, 0],\n",
    "        [38, 40, 0, 0, 0, 0, 0, 100, 0, 30, 0, 0],\n",
    "        [0, 0, 0, 0, 0, 0, 0, 0, 30, 0, 20, 50],\n",
    "        [0, 0, 0, 0, 0, 0, 0, 0, 0, 20, 0, 0],\n",
    "        [0, 0, 0, 0, 0, 0, 0, 0, 0, 50, 0, 0],\n",
    "    ]\n",
    ")\n",
    "\n",
    "distances = pd.DataFrame(distances, index=locations, columns=locations)\n",
    "distances"
   ]
  },
  {
   "cell_type": "markdown",
   "metadata": {},
   "source": [
    "## Old water pipes"
   ]
  },
  {
   "cell_type": "code",
   "execution_count": null,
   "metadata": {
    "scrolled": true,
    "tags": [
     "nbval-check-output"
    ]
   },
   "outputs": [],
   "source": [
    "capacityFix = np.array(\n",
    "    [\n",
    "        [0, 0, 0, 0, 0, 0, 0, 0, 1, 0, 0, 0],\n",
    "        [0, 0, 0, 0, 0, 0, 0, 0, 1, 0, 0, 0],\n",
    "        [0, 0, 0, 0, 0, 0, 0, 1, 0, 0, 0, 0],\n",
    "        [0, 0, 0, 0, 0, 0, 0, 1, 0, 0, 0, 0],\n",
    "        [0, 0, 0, 0, 0, 0, 0, 0, 0, 0, 0, 0],\n",
    "        [0, 0, 0, 0, 0, 0, 0, 0, 0, 0, 0, 0],\n",
    "        [0, 0, 0, 0, 0, 0, 0, 0, 0, 0, 0, 0],\n",
    "        [0, 0, 1, 1, 0, 0, 0, 0, 2, 0, 0, 0],\n",
    "        [1, 1, 0, 0, 0, 0, 0, 2, 0, 4, 0, 0],\n",
    "        [0, 0, 0, 0, 0, 0, 0, 0, 4, 0, 4, 4],\n",
    "        [0, 0, 0, 0, 0, 0, 0, 0, 0, 4, 0, 0],\n",
    "        [0, 0, 0, 0, 0, 0, 0, 0, 0, 4, 0, 0],\n",
    "    ]\n",
    ")\n",
    "\n",
    "capacityFix = pd.DataFrame(capacityFix, index=locations, columns=locations)\n",
    "capacityFix"
   ]
  },
  {
   "cell_type": "markdown",
   "metadata": {},
   "source": [
    "The old pipes have many leckages wherefore they lose 0.1%/m of the water they transport."
   ]
  },
  {
   "cell_type": "code",
   "execution_count": null,
   "metadata": {},
   "outputs": [],
   "source": [
    "isBuiltFix = capacityFix.copy()\n",
    "isBuiltFix[isBuiltFix > 0] = 1\n",
    "\n",
    "esM.add(\n",
    "    fn.Transmission(\n",
    "        esM=esM,\n",
    "        name=\"Old water pipes\",\n",
    "        commodity=\"clean water\",\n",
    "        losses=0.1e-2,\n",
    "        distances=distances,\n",
    "        hasCapacityVariable=True,\n",
    "        hasIsBuiltBinaryVariable=True,\n",
    "        bigM=100,\n",
    "        capacityFix=capacityFix,\n",
    "        isBuiltFix=isBuiltFix,\n",
    "    )\n",
    ")"
   ]
  },
  {
   "cell_type": "markdown",
   "metadata": {},
   "source": [
    "## New water pipes"
   ]
  },
  {
   "cell_type": "code",
   "execution_count": null,
   "metadata": {
    "tags": [
     "nbval-check-output"
    ]
   },
   "outputs": [],
   "source": [
    "incidence = np.array(\n",
    "    [\n",
    "        [0, 0, 0, 0, 0, 0, 0, 0, 1, 0, 0, 0],\n",
    "        [0, 0, 0, 0, 0, 0, 0, 0, 1, 0, 0, 0],\n",
    "        [0, 0, 0, 0, 0, 0, 0, 1, 0, 0, 0, 0],\n",
    "        [0, 0, 0, 0, 0, 0, 0, 1, 0, 0, 0, 0],\n",
    "        [0, 0, 0, 0, 0, 0, 1, 0, 0, 0, 0, 0],\n",
    "        [0, 0, 0, 0, 0, 0, 1, 0, 0, 0, 0, 0],\n",
    "        [0, 0, 0, 0, 1, 1, 0, 1, 0, 0, 0, 0],\n",
    "        [0, 0, 1, 1, 0, 0, 1, 0, 1, 0, 0, 0],\n",
    "        [1, 1, 0, 0, 0, 0, 0, 1, 0, 1, 0, 0],\n",
    "        [0, 0, 0, 0, 0, 0, 0, 0, 1, 0, 1, 1],\n",
    "        [0, 0, 0, 0, 0, 0, 0, 0, 0, 1, 0, 0],\n",
    "        [0, 0, 0, 0, 0, 0, 0, 0, 0, 1, 0, 0],\n",
    "    ]\n",
    ")\n",
    "\n",
    "eligibility = pd.DataFrame(incidence, index=locations, columns=locations)\n",
    "eligibility"
   ]
  },
  {
   "cell_type": "markdown",
   "metadata": {},
   "source": [
    "The new are pipes are better but still lose 0.05%/m of the water they transport."
   ]
  },
  {
   "cell_type": "code",
   "execution_count": null,
   "metadata": {},
   "outputs": [],
   "source": [
    "esM.add(\n",
    "    fn.Transmission(\n",
    "        esM=esM,\n",
    "        name=\"New water pipes\",\n",
    "        commodity=\"clean water\",\n",
    "        losses=0.05e-2,\n",
    "        distances=distances,\n",
    "        hasCapacityVariable=True,\n",
    "        hasIsBuiltBinaryVariable=True,\n",
    "        bigM=100,\n",
    "        locationalEligibility=eligibility,\n",
    "        investPerCapacity=0.1,\n",
    "        investIfBuilt=0.5,\n",
    "        interestRate=0.08,\n",
    "        economicLifetime=50,\n",
    "    )\n",
    ")"
   ]
  },
  {
   "cell_type": "markdown",
   "metadata": {},
   "source": [
    "# Sink"
   ]
  },
  {
   "cell_type": "code",
   "execution_count": null,
   "metadata": {
    "scrolled": true
   },
   "outputs": [],
   "source": [
    "winterHours = np.append(range(8520, 8760), range(1920))\n",
    "springHours, summerHours, autumnHours = (\n",
    "    np.arange(1920, 4128),\n",
    "    np.arange(4128, 6384),\n",
    "    np.arange(6384, 8520),\n",
    ")\n",
    "\n",
    "demand = pd.DataFrame(np.zeros((8760, 12)), columns=list(locations))\n",
    "np.random.seed(42)\n",
    "demand[locations[0:6]] = np.random.uniform(0, 1, (8760, 6))\n",
    "\n",
    "demand.loc[winterHours[(winterHours % 24 < 5) | (winterHours % 24 >= 23)]] = 0\n",
    "demand.loc[springHours[(springHours % 24 < 4)]] = 0\n",
    "demand.loc[summerHours[(summerHours % 24 < 5) | (summerHours % 24 >= 23)]] = 0\n",
    "demand.loc[autumnHours[(autumnHours % 24 < 6) | (autumnHours % 24 >= 23)]] = 0"
   ]
  },
  {
   "cell_type": "code",
   "execution_count": null,
   "metadata": {},
   "outputs": [],
   "source": [
    "demand.sum().sum()"
   ]
  },
  {
   "cell_type": "code",
   "execution_count": null,
   "metadata": {},
   "outputs": [],
   "source": [
    "esM.add(\n",
    "    fn.Sink(\n",
    "        esM=esM,\n",
    "        name=\"Water demand\",\n",
    "        commodity=\"clean water\",\n",
    "        hasCapacityVariable=False,\n",
    "        operationRateFix=demand,\n",
    "    )\n",
    ")"
   ]
  },
  {
   "cell_type": "markdown",
   "metadata": {},
   "source": [
    "# Optimize the system"
   ]
  },
  {
   "cell_type": "code",
   "execution_count": null,
   "metadata": {
    "scrolled": true
   },
   "outputs": [],
   "source": [
    "esM.aggregateTemporally(numberOfTypicalPeriods=7)"
   ]
  },
  {
   "cell_type": "code",
   "execution_count": null,
   "metadata": {
    "scrolled": true
   },
   "outputs": [],
   "source": [
    "# esM.optimize(timeSeriesAggregation=True, optimizationSpecs='LogToConsole=1 OptimalityTol=1e-6 crossover=1')\n",
    "esM.optimize(timeSeriesAggregation=True, solver=\"glpk\")"
   ]
  },
  {
   "cell_type": "markdown",
   "metadata": {},
   "source": [
    "# Selected results output"
   ]
  },
  {
   "cell_type": "markdown",
   "metadata": {},
   "source": [
    "### Sources and Sinks"
   ]
  },
  {
   "cell_type": "code",
   "execution_count": null,
   "metadata": {
    "tags": [
     "nbval-check-output"
    ]
   },
   "outputs": [],
   "source": [
    "esM.getOptimizationSummary(\"SourceSinkModel\", outputLevel=2)"
   ]
  },
  {
   "cell_type": "markdown",
   "metadata": {},
   "source": [
    "### Storage"
   ]
  },
  {
   "cell_type": "code",
   "execution_count": null,
   "metadata": {},
   "outputs": [],
   "source": [
    "esM.getOptimizationSummary(\"StorageModel\", outputLevel=2)"
   ]
  },
  {
   "cell_type": "markdown",
   "metadata": {},
   "source": [
    "### Conversion"
   ]
  },
  {
   "cell_type": "code",
   "execution_count": null,
   "metadata": {
    "tags": [
     "nbval-check-output"
    ]
   },
   "outputs": [],
   "source": [
    "esM.getOptimizationSummary(\"ConversionModel\", outputLevel=2)"
   ]
  },
  {
   "cell_type": "markdown",
   "metadata": {},
   "source": [
    "### Transmission"
   ]
  },
  {
   "cell_type": "code",
   "execution_count": null,
   "metadata": {
    "tags": [
     "nbval-check-output"
    ]
   },
   "outputs": [],
   "source": [
    "esM.getOptimizationSummary(\"TransmissionModel\", outputLevel=2)"
   ]
  },
  {
   "cell_type": "code",
   "execution_count": null,
   "metadata": {
    "scrolled": true,
    "tags": [
     "nbval-check-output"
    ]
   },
   "outputs": [],
   "source": [
    "esM.componentModelingDict[\"TransmissionModel\"].operationVariablesOptimum.sum(axis=1)"
   ]
  }
 ],
 "metadata": {
  "anaconda-cloud": {},
  "jupytext": {
   "encoding": "# -*- coding: utf-8 -*-",
   "formats": "ipynb,py:percent",
   "notebook_metadata_filter": "-all"
  },
  "kernelspec": {
   "display_name": "Python 3",
   "language": "python",
   "name": "python3"
  },
  "language_info": {
   "codemirror_mode": {
    "name": "ipython",
    "version": 3
   },
   "file_extension": ".py",
   "mimetype": "text/x-python",
   "name": "python",
   "nbconvert_exporter": "python",
   "pygments_lexer": "ipython3",
   "version": "3.8.6"
  }
 },
 "nbformat": 4,
 "nbformat_minor": 4
}
