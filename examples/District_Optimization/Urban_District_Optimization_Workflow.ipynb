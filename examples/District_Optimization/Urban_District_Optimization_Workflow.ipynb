{
 "cells": [
  {
   "cell_type": "markdown",
   "metadata": {},
   "source": [
    "# Workflow for a district optimization\n",
    "\n",
    "In this application of the FINE framework, a small district is modeled and optimized.\n",
    "\n",
    "All classes which are available to the user are utilized and examples of the selection of different parameters within these classes are given.\n",
    "\n",
    "The workflow is structures as follows:\n",
    "1. Required packages are imported and the input data path is set\n",
    "2. An energy system model instance is created\n",
    "3. Commodity sources are added to the energy system model\n",
    "4. Commodity conversion components are added to the energy system model\n",
    "5. Commodity storages are added to the energy system model\n",
    "6. Commodity transmission components are added to the energy system model\n",
    "7. Commodity sinks are added to the energy system model\n",
    "8. The energy system model is optimized\n",
    "9. Selected optimization results are presented\n"
   ]
  },
  {
   "cell_type": "markdown",
   "metadata": {},
   "source": [
    "# 1. Import required packages and set input data path\n",
    "\n",
    "The FINE framework is imported which provides the required classes and functions for modeling the energy system."
   ]
  },
  {
   "cell_type": "code",
   "execution_count": null,
   "metadata": {
    "scrolled": true
   },
   "outputs": [],
   "source": [
    "import FINE as fn\n",
    "from getData import getData\n",
    "import pandas as pd\n",
    "\n",
    "data = getData()\n",
    "\n",
    "%load_ext autoreload\n",
    "%autoreload 2\n",
    "%matplotlib inline"
   ]
  },
  {
   "cell_type": "markdown",
   "metadata": {},
   "source": [
    "# 2. Create an energy system model instance \n",
    "\n",
    "The structure of the energy system model is given by the considered locations, commodities, the number of time steps as well as the hours per time step.\n",
    "\n",
    "The commodities are specified by a unit (i.e. 'GW_electric', 'GW_H2lowerHeatingValue', 'Mio. t CO2/h') which can be given as an energy or mass unit per hour. Furthermore, the cost unit and length unit are specified."
   ]
  },
  {
   "cell_type": "code",
   "execution_count": null,
   "metadata": {},
   "outputs": [],
   "source": [
    "locations = data[\"locations\"]\n",
    "commodityUnitDict = {\"electricity\": \"kW_el\", \"methane\": \"kW_CH4_LHV\", \"heat\": \"kW_th\"}\n",
    "commodities = {\"electricity\", \"methane\", \"heat\"}\n",
    "numberOfTimeSteps = 8760\n",
    "hoursPerTimeStep = 1"
   ]
  },
  {
   "cell_type": "code",
   "execution_count": null,
   "metadata": {},
   "outputs": [],
   "source": [
    "esM = fn.EnergySystemModel(\n",
    "    locations=locations,\n",
    "    commodities=commodities,\n",
    "    numberOfTimeSteps=8760,\n",
    "    commodityUnitsDict=commodityUnitDict,\n",
    "    hoursPerTimeStep=1,\n",
    "    costUnit=\"€\",\n",
    "    lengthUnit=\"m\",\n",
    "    verboseLogLevel=2,\n",
    ")"
   ]
  },
  {
   "cell_type": "markdown",
   "metadata": {},
   "source": [
    "# 3. Add commodity sources to the energy system model"
   ]
  },
  {
   "cell_type": "markdown",
   "metadata": {},
   "source": [
    "### Electricity Purchase"
   ]
  },
  {
   "cell_type": "code",
   "execution_count": null,
   "metadata": {
    "scrolled": true
   },
   "outputs": [],
   "source": [
    "esM.add(\n",
    "    fn.Source(\n",
    "        esM=esM,\n",
    "        name=\"Electricity purchase\",\n",
    "        commodity=\"electricity\",\n",
    "        hasCapacityVariable=False,\n",
    "        operationRateMax=data[\"El Purchase, operationRateMax\"],\n",
    "        commodityCost=0.298,\n",
    "    )\n",
    ")"
   ]
  },
  {
   "cell_type": "markdown",
   "metadata": {},
   "source": [
    "### Natural Gas Purchase"
   ]
  },
  {
   "cell_type": "code",
   "execution_count": null,
   "metadata": {},
   "outputs": [],
   "source": [
    "esM.add(\n",
    "    fn.Source(\n",
    "        esM=esM,\n",
    "        name=\"NaturalGas purchase\",\n",
    "        commodity=\"methane\",\n",
    "        hasCapacityVariable=False,\n",
    "        operationRateMax=data[\"NG Purchase, operationRateMax\"],\n",
    "        commodityCost=0.065,\n",
    "    )\n",
    ")"
   ]
  },
  {
   "cell_type": "markdown",
   "metadata": {},
   "source": [
    "### PV"
   ]
  },
  {
   "cell_type": "code",
   "execution_count": null,
   "metadata": {},
   "outputs": [],
   "source": [
    "esM.add(\n",
    "    fn.Source(\n",
    "        esM=esM,\n",
    "        name=\"PV\",\n",
    "        commodity=\"electricity\",\n",
    "        hasCapacityVariable=True,\n",
    "        hasIsBuiltBinaryVariable=True,\n",
    "        operationRateMax=data[\"PV, operationRateMax\"],\n",
    "        capacityMax=data[\"PV, capacityMax\"],\n",
    "        interestRate=0.04,\n",
    "        economicLifetime=20,\n",
    "        investIfBuilt=1000,\n",
    "        investPerCapacity=1400,\n",
    "        opexIfBuilt=10,\n",
    "        bigM=40,\n",
    "    )\n",
    ")"
   ]
  },
  {
   "cell_type": "markdown",
   "metadata": {},
   "source": [
    "# 4. Add conversion components to the energy system model"
   ]
  },
  {
   "cell_type": "markdown",
   "metadata": {},
   "source": [
    "### Boiler"
   ]
  },
  {
   "cell_type": "code",
   "execution_count": null,
   "metadata": {},
   "outputs": [],
   "source": [
    "esM.add(\n",
    "    fn.Conversion(\n",
    "        esM=esM,\n",
    "        name=\"Boiler\",\n",
    "        physicalUnit=\"kW_th\",\n",
    "        commodityConversionFactors={\"methane\": -1.1, \"heat\": 1},\n",
    "        hasIsBuiltBinaryVariable=True,\n",
    "        hasCapacityVariable=True,\n",
    "        interestRate=0.04,\n",
    "        economicLifetime=20,\n",
    "        investIfBuilt=2800,\n",
    "        investPerCapacity=100,\n",
    "        opexIfBuilt=24,\n",
    "        bigM=200,\n",
    "    )\n",
    ")"
   ]
  },
  {
   "cell_type": "markdown",
   "metadata": {},
   "source": [
    "# 5. Add commodity storages to the energy system model"
   ]
  },
  {
   "cell_type": "markdown",
   "metadata": {},
   "source": [
    "### Thermal Storage "
   ]
  },
  {
   "cell_type": "code",
   "execution_count": null,
   "metadata": {},
   "outputs": [],
   "source": [
    "esM.add(\n",
    "    fn.Storage(\n",
    "        esM=esM,\n",
    "        name=\"Thermal Storage\",\n",
    "        commodity=\"heat\",\n",
    "        selfDischarge=0.001,\n",
    "        hasIsBuiltBinaryVariable=True,\n",
    "        capacityMax=data[\"TS, capacityMax\"],\n",
    "        interestRate=0.04,\n",
    "        economicLifetime=25,\n",
    "        investIfBuilt=23,\n",
    "        investPerCapacity=24,\n",
    "        bigM=250,\n",
    "    )\n",
    ")"
   ]
  },
  {
   "cell_type": "markdown",
   "metadata": {},
   "source": [
    "### Battery Storage"
   ]
  },
  {
   "cell_type": "code",
   "execution_count": null,
   "metadata": {},
   "outputs": [],
   "source": [
    "esM.add(\n",
    "    fn.Storage(\n",
    "        esM=esM,\n",
    "        name=\"Battery Storage\",\n",
    "        commodity=\"electricity\",\n",
    "        cyclicLifetime=10000,\n",
    "        chargeEfficiency=0.95,\n",
    "        dischargeEfficiency=0.95,\n",
    "        chargeRate=0.5,\n",
    "        dischargeRate=0.5,\n",
    "        hasIsBuiltBinaryVariable=True,\n",
    "        capacityMax=data[\"BS, capacityMax\"],\n",
    "        interestRate=0.04,\n",
    "        economicLifetime=12,\n",
    "        investIfBuilt=2000,\n",
    "        investPerCapacity=700,\n",
    "        bigM=110,\n",
    "    )\n",
    ")"
   ]
  },
  {
   "cell_type": "markdown",
   "metadata": {},
   "source": [
    "# 6. Add commodity transmission components to the energy system model"
   ]
  },
  {
   "cell_type": "markdown",
   "metadata": {},
   "source": [
    "### Cable Electricty"
   ]
  },
  {
   "cell_type": "code",
   "execution_count": null,
   "metadata": {},
   "outputs": [],
   "source": [
    "esM.add(\n",
    "    fn.Transmission(\n",
    "        esM=esM,\n",
    "        name=\"E_Distribution_Grid\",\n",
    "        commodity=\"electricity\",\n",
    "        losses=0.00001,\n",
    "        distances=data[\"cables, distances\"],\n",
    "        capacityFix=data[\"cables, capacityFix\"],\n",
    "    )\n",
    ")"
   ]
  },
  {
   "cell_type": "markdown",
   "metadata": {},
   "source": [
    "### Natural Gas Pipeline"
   ]
  },
  {
   "cell_type": "code",
   "execution_count": null,
   "metadata": {},
   "outputs": [],
   "source": [
    "esM.add(\n",
    "    fn.Transmission(\n",
    "        esM=esM,\n",
    "        name=\"NG_Distribution_Grid\",\n",
    "        commodity=\"methane\",\n",
    "        distances=data[\"NG, distances\"],\n",
    "        capacityFix=data[\"NG, capacityFix\"],\n",
    "    )\n",
    ")"
   ]
  },
  {
   "cell_type": "markdown",
   "metadata": {},
   "source": [
    "# 7. Add commodity sinks to the energy system model\n",
    "\n",
    "### Electricity Demand"
   ]
  },
  {
   "cell_type": "code",
   "execution_count": null,
   "metadata": {},
   "outputs": [],
   "source": [
    "esM.add(\n",
    "    fn.Sink(\n",
    "        esM=esM,\n",
    "        name=\"Electricity demand\",\n",
    "        commodity=\"electricity\",\n",
    "        hasCapacityVariable=False,\n",
    "        operationRateFix=data[\"Electricity demand, operationRateFix\"],\n",
    "    )\n",
    ")"
   ]
  },
  {
   "cell_type": "markdown",
   "metadata": {},
   "source": [
    "### Heat Demand"
   ]
  },
  {
   "cell_type": "code",
   "execution_count": null,
   "metadata": {},
   "outputs": [],
   "source": [
    "esM.add(\n",
    "    fn.Sink(\n",
    "        esM=esM,\n",
    "        name=\"BuildingsHeat\",\n",
    "        commodity=\"heat\",\n",
    "        hasCapacityVariable=False,\n",
    "        operationRateFix=data[\"Heat demand, operationRateFix\"],\n",
    "    )\n",
    ")"
   ]
  },
  {
   "cell_type": "markdown",
   "metadata": {},
   "source": [
    "# 8. Optimize energy system model"
   ]
  },
  {
   "cell_type": "markdown",
   "metadata": {},
   "source": [
    "All components are now added to the model and the model can be optimized. If the computational complexity of the optimization should be reduced, the time series data of the specified components can be clustered before the optimization and the parameter timeSeriesAggregation is set to True in the optimize call."
   ]
  },
  {
   "cell_type": "code",
   "execution_count": null,
   "metadata": {},
   "outputs": [],
   "source": [
    "esM.aggregateTemporally(numberOfTypicalPeriods=7)"
   ]
  },
  {
   "cell_type": "code",
   "execution_count": null,
   "metadata": {
    "scrolled": true
   },
   "outputs": [],
   "source": [
    "# esM.optimize(timeSeriesAggregation=True, optimizationSpecs='cuts=0 method=2')\n",
    "esM.optimize(timeSeriesAggregation=True, solver=\"glpk\")"
   ]
  },
  {
   "cell_type": "markdown",
   "metadata": {},
   "source": [
    "# 9. Selected results output"
   ]
  },
  {
   "cell_type": "markdown",
   "metadata": {},
   "source": [
    "### Sources and Sink"
   ]
  },
  {
   "cell_type": "code",
   "execution_count": null,
   "metadata": {},
   "outputs": [],
   "source": [
    "esM.getOptimizationSummary(\"SourceSinkModel\", outputLevel=2)"
   ]
  },
  {
   "cell_type": "code",
   "execution_count": null,
   "metadata": {
    "tags": [
     "nbval-check-output"
    ]
   },
   "outputs": [],
   "source": [
    "fig, ax = fn.plotOperationColorMap(esM, \"PV\", \"bd1\")"
   ]
  },
  {
   "cell_type": "code",
   "execution_count": null,
   "metadata": {
    "tags": [
     "nbval-check-output"
    ]
   },
   "outputs": [],
   "source": [
    "fig, ax = fn.plotOperationColorMap(esM, \"Electricity demand\", \"bd1\")"
   ]
  },
  {
   "cell_type": "code",
   "execution_count": null,
   "metadata": {
    "tags": [
     "nbval-check-output"
    ]
   },
   "outputs": [],
   "source": [
    "fig, ax = fn.plotOperationColorMap(esM, \"Electricity purchase\", \"transformer\")"
   ]
  },
  {
   "cell_type": "code",
   "execution_count": null,
   "metadata": {
    "tags": [
     "nbval-check-output"
    ]
   },
   "outputs": [],
   "source": [
    "fig, ax = fn.plotOperationColorMap(esM, \"NaturalGas purchase\", \"transformer\")"
   ]
  },
  {
   "cell_type": "markdown",
   "metadata": {},
   "source": [
    "### Conversion"
   ]
  },
  {
   "cell_type": "code",
   "execution_count": null,
   "metadata": {
    "tags": [
     "nbval-check-output"
    ]
   },
   "outputs": [],
   "source": [
    "esM.getOptimizationSummary(\"ConversionModel\", outputLevel=2)"
   ]
  },
  {
   "cell_type": "code",
   "execution_count": null,
   "metadata": {
    "tags": [
     "nbval-check-output"
    ]
   },
   "outputs": [],
   "source": [
    "fig, ax = fn.plotOperationColorMap(esM, \"Boiler\", \"bd1\")"
   ]
  },
  {
   "cell_type": "markdown",
   "metadata": {},
   "source": [
    "### Storage"
   ]
  },
  {
   "cell_type": "code",
   "execution_count": null,
   "metadata": {},
   "outputs": [],
   "source": [
    "esM.getOptimizationSummary(\"StorageModel\", outputLevel=2)"
   ]
  },
  {
   "cell_type": "code",
   "execution_count": null,
   "metadata": {
    "tags": [
     "nbval-check-output"
    ]
   },
   "outputs": [],
   "source": [
    "fig, ax = fn.plotOperationColorMap(\n",
    "    esM, \"Thermal Storage\", \"bd1\", variableName=\"stateOfChargeOperationVariablesOptimum\"\n",
    ")"
   ]
  },
  {
   "cell_type": "markdown",
   "metadata": {},
   "source": [
    "### Transmission"
   ]
  },
  {
   "cell_type": "code",
   "execution_count": null,
   "metadata": {},
   "outputs": [],
   "source": [
    "esM.getOptimizationSummary(\"TransmissionModel\", outputLevel=2)"
   ]
  }
 ],
 "metadata": {
  "anaconda-cloud": {},
  "jupytext": {
   "encoding": "# -*- coding: utf-8 -*-",
   "formats": "ipynb,py:percent",
   "notebook_metadata_filter": "-all"
  },
  "kernelspec": {
   "display_name": "Python 3",
   "language": "python",
   "name": "python3"
  },
  "language_info": {
   "codemirror_mode": {
    "name": "ipython",
    "version": 3
   },
   "file_extension": ".py",
   "mimetype": "text/x-python",
   "name": "python",
   "nbconvert_exporter": "python",
   "pygments_lexer": "ipython3",
   "version": "3.8.6"
  }
 },
 "nbformat": 4,
 "nbformat_minor": 4
}
