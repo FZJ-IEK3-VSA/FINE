{
 "cells": [
  {
   "cell_type": "markdown",
   "metadata": {
    "editable": true,
    "slideshow": {
     "slide_type": ""
    },
    "tags": []
   },
   "source": [
    "# Example for modeling part load behavior\n",
    "\n",
    "In this application of the ETHOS.FINE framework, a hydrogen system is modeled and optimized considering partload behavior of the electrolyzer. \n",
    "\n",
    "All classes which are available to the user are utilized and examples of the selection of different parameters within these classes are given.\n",
    "\n",
    "The workflow is structures as follows:\n",
    "1. Required packages are imported and the input data path is set\n",
    "2. An energy system model instance is created\n",
    "3. Commodity sources are added to the energy system model\n",
    "4. Commodity conversion components are added to the energy system model\n",
    "5. Commodity storages are added to the energy system model\n",
    "7. Commodity sinks are added to the energy system model\n",
    "8. The energy system model is optimized\n",
    "9. Selected optimization results are presented\n"
   ]
  },
  {
   "cell_type": "markdown",
   "metadata": {},
   "source": [
    "# 1. Import required packages and set input data path\n",
    "\n",
    "The ETHOS.FINE framework is imported which provides the required classes and functions for modeling the energy system."
   ]
  },
  {
   "cell_type": "code",
   "execution_count": 1,
   "metadata": {
    "editable": true,
    "scrolled": true,
    "slideshow": {
     "slide_type": ""
    },
    "tags": []
   },
   "outputs": [],
   "source": [
    "import fine as fn\n",
    "import pandas as pd\n",
    "from getData import getData\n",
    "from pathlib import Path\n",
    "\n",
    "cwd = Path.cwd()\n",
    "data = getData()\n",
    "\n",
    "%matplotlib inline\n",
    "%load_ext autoreload\n",
    "%autoreload 2"
   ]
  },
  {
   "cell_type": "markdown",
   "metadata": {},
   "source": [
    "# 2 Import efficiency curve data for partload operation"
   ]
  },
  {
   "cell_type": "code",
   "execution_count": 2,
   "metadata": {
    "editable": true,
    "slideshow": {
     "slide_type": ""
    },
    "tags": []
   },
   "outputs": [],
   "source": [
    "# Efficiency Curve for PEM Electrolyzer\n",
    "# Data from EC Campus Mainz\n",
    "Operation_level = [\n",
    "    0.0208023774145616,\n",
    "    0.0222882615156017,\n",
    "    0.0222882615156017,\n",
    "    0.0222882615156017,\n",
    "    0.025260029717682,\n",
    "    0.025260029717682,\n",
    "    0.0267459138187221,\n",
    "    0.0282317979197622,\n",
    "    0.0297176820208024,\n",
    "    0.0312035661218424,\n",
    "    0.0326894502228826,\n",
    "    0.0341753343239227,\n",
    "    0.0356612184249628,\n",
    "    0.0371471025260029,\n",
    "    0.038632986627043,\n",
    "    0.0416047548291233,\n",
    "    0.0430906389301634,\n",
    "    0.0445765230312035,\n",
    "    0.0475482912332838,\n",
    "    0.0430906389301634,\n",
    "    0.0490341753343239,\n",
    "    0.050520059435364,\n",
    "    0.0520059435364041,\n",
    "    0.0549777117384844,\n",
    "    0.0579494799405646,\n",
    "    0.0609212481426448,\n",
    "    0.0638930163447251,\n",
    "    0.0683506686478455,\n",
    "    0.0713224368499256,\n",
    "    0.075780089153046,\n",
    "    0.0787518573551263,\n",
    "    0.0832095096582466,\n",
    "    0.087667161961367,\n",
    "    0.0921248142644873,\n",
    "    0.0980683506686478,\n",
    "    0.104011887072808,\n",
    "    0.108469539375928,\n",
    "    0.114413075780089,\n",
    "    0.120356612184249,\n",
    "    0.12778603268945,\n",
    "    0.13521545319465,\n",
    "    0.142644873699851,\n",
    "    0.151560178306092,\n",
    "    0.157503714710252,\n",
    "    0.166419019316493,\n",
    "    0.173848439821693,\n",
    "    0.181277860326894,\n",
    "    0.190193164933135,\n",
    "    0.196136701337295,\n",
    "    0.202080237741456,\n",
    "    0.209509658246656,\n",
    "    0.216939078751857,\n",
    "    0.224368499257057,\n",
    "    0.233283803863298,\n",
    "    0.240713224368499,\n",
    "    0.246656760772659,\n",
    "    0.25408618127786,\n",
    "    0.26151560178306,\n",
    "    0.270430906389301,\n",
    "    0.276374442793462,\n",
    "    0.283803863298662,\n",
    "    0.292719167904903,\n",
    "    0.298662704309063,\n",
    "    0.306092124814264,\n",
    "    0.313521545319465,\n",
    "    0.319465081723625,\n",
    "    0.328380386329866,\n",
    "    0.335809806835066,\n",
    "    0.343239227340267,\n",
    "    0.349182763744427,\n",
    "    0.356612184249628,\n",
    "    0.364041604754829,\n",
    "    0.371471025260029,\n",
    "    0.38038632986627,\n",
    "    0.389301634472511,\n",
    "    0.398216939078751,\n",
    "    0.407132243684992,\n",
    "    0.416047548291233,\n",
    "    0.423476968796433,\n",
    "    0.430906389301634,\n",
    "    0.439821693907875,\n",
    "    0.448736998514115,\n",
    "    0.457652303120356,\n",
    "    0.465081723625557,\n",
    "    0.472511144130757,\n",
    "    0.481426448736998,\n",
    "    0.490341753343239,\n",
    "    0.497771173848439,\n",
    "    0.50668647845468,\n",
    "    0.514115898959881,\n",
    "    0.523031203566121,\n",
    "    0.531946508172362,\n",
    "    0.540861812778603,\n",
    "    0.551263001485884,\n",
    "    0.560178306092124,\n",
    "    0.567607726597325,\n",
    "    0.576523031203566,\n",
    "    0.585438335809806,\n",
    "    0.595839524517087,\n",
    "    0.604754829123328,\n",
    "    0.613670133729569,\n",
    "    0.619613670133729,\n",
    "    0.62852897473997,\n",
    "    0.638930163447251,\n",
    "    0.646359583952451,\n",
    "    0.656760772659732,\n",
    "    0.664190193164933,\n",
    "    0.673105497771173,\n",
    "    0.684992570579494,\n",
    "    0.692421991084695,\n",
    "    0.699851411589896,\n",
    "    0.710252600297176,\n",
    "    0.717682020802377,\n",
    "    0.726597325408618,\n",
    "    0.735512630014858,\n",
    "    0.744427934621099,\n",
    "    0.75334323922734,\n",
    "    0.762258543833581,\n",
    "    0.769687964338781,\n",
    "    0.780089153046062,\n",
    "    0.786032689450223,\n",
    "    0.793462109955423,\n",
    "    0.802377414561664,\n",
    "    0.811292719167904,\n",
    "    0.820208023774145,\n",
    "    0.829123328380386,\n",
    "    0.838038632986627,\n",
    "    0.846953937592867,\n",
    "    0.858841010401188,\n",
    "    0.867756315007429,\n",
    "    0.87667161961367,\n",
    "    0.88707280832095,\n",
    "    0.895988112927191,\n",
    "    0.904903417533432,\n",
    "    0.913818722139673,\n",
    "    0.924219910846954,\n",
    "    0.933135215453194,\n",
    "    0.942050520059435,\n",
    "    0.947994056463595,\n",
    "    0.958395245170876,\n",
    "    0.965824665676077,\n",
    "    0.974739970282318,\n",
    "    0.985141158989598,\n",
    "    0.994056463595839,\n",
    "]\n",
    "Efficiency = [\n",
    "    0.03449362655834178,\n",
    "    0.05655553999159559,\n",
    "    0.04920156884717763,\n",
    "    0.07616612971004356,\n",
    "    0.09332539571368476,\n",
    "    0.115387309146939,\n",
    "    0.13254657515058135,\n",
    "    0.1497058411542229,\n",
    "    0.1693164308726712,\n",
    "    0.1864756968763127,\n",
    "    0.2036349628799551,\n",
    "    0.2256968763132085,\n",
    "    0.2404048186020449,\n",
    "    0.25511276089088053,\n",
    "    0.27472335060932884,\n",
    "    0.2918826166129703,\n",
    "    0.30904188261661275,\n",
    "    0.33110379604986695,\n",
    "    0.34581173833870255,\n",
    "    0.3212985011906424,\n",
    "    0.3629710043423449,\n",
    "    0.38013027034598645,\n",
    "    0.3923868889200161,\n",
    "    0.4095461549236585,\n",
    "    0.42425409721249496,\n",
    "    0.4365107157865246,\n",
    "    0.44876733436055427,\n",
    "    0.45857262921977887,\n",
    "    0.4683779240790026,\n",
    "    0.4830858663678382,\n",
    "    0.4953424849418686,\n",
    "    0.5075991035158983,\n",
    "    0.517404398375122,\n",
    "    0.5247583695195407,\n",
    "    0.5321123406639585,\n",
    "    0.5419176355231823,\n",
    "    0.5517229303824059,\n",
    "    0.5639795489564365,\n",
    "    0.5713335201008543,\n",
    "    0.5811388149600779,\n",
    "    0.5884927861044958,\n",
    "    0.5933954335341085,\n",
    "    0.5982980809637204,\n",
    "    0.6007494046785262,\n",
    "    0.6007494046785262,\n",
    "    0.6007494046785262,\n",
    "    0.5982980809637204,\n",
    "    0.5982980809637204,\n",
    "    0.5958467572489144,\n",
    "    0.5958467572489144,\n",
    "    0.5958467572489144,\n",
    "    0.5933954335341085,\n",
    "    0.5933954335341085,\n",
    "    0.5933954335341085,\n",
    "    0.5909441098193018,\n",
    "    0.5909441098193018,\n",
    "    0.5909441098193018,\n",
    "    0.5884927861044958,\n",
    "    0.5884927861044958,\n",
    "    0.5884927861044958,\n",
    "    0.5884927861044958,\n",
    "    0.5884927861044958,\n",
    "    0.5884927861044958,\n",
    "    0.5860414623896899,\n",
    "    0.5860414623896899,\n",
    "    0.5860414623896899,\n",
    "    0.583590138674884,\n",
    "    0.583590138674884,\n",
    "    0.583590138674884,\n",
    "    0.5811388149600779,\n",
    "    0.5811388149600779,\n",
    "    0.5786874912452721,\n",
    "    0.5762361675304661,\n",
    "    0.5762361675304661,\n",
    "    0.5737848438156602,\n",
    "    0.5737848438156602,\n",
    "    0.5713335201008543,\n",
    "    0.5713335201008543,\n",
    "    0.5688821963860483,\n",
    "    0.5688821963860483,\n",
    "    0.5664308726712425,\n",
    "    0.5664308726712425,\n",
    "    0.5639795489564365,\n",
    "    0.5639795489564365,\n",
    "    0.5615282252416306,\n",
    "    0.5590769015268245,\n",
    "    0.5590769015268245,\n",
    "    0.5590769015268245,\n",
    "    0.5566255778120178,\n",
    "    0.5566255778120178,\n",
    "    0.5541742540972119,\n",
    "    0.5541742540972119,\n",
    "    0.5517229303824059,\n",
    "    0.5517229303824059,\n",
    "    0.5517229303824059,\n",
    "    0.5492716066676,\n",
    "    0.5492716066676,\n",
    "    0.5492716066676,\n",
    "    0.5492716066676,\n",
    "    0.5468202829527942,\n",
    "    0.5443689592379882,\n",
    "    0.5443689592379882,\n",
    "    0.5443689592379882,\n",
    "    0.5443689592379882,\n",
    "    0.5419176355231823,\n",
    "    0.5394663118083762,\n",
    "    0.5394663118083762,\n",
    "    0.5370149880935703,\n",
    "    0.5370149880935703,\n",
    "    0.5345636643787645,\n",
    "    0.5345636643787645,\n",
    "    0.5321123406639585,\n",
    "    0.5321123406639585,\n",
    "    0.5296610169491526,\n",
    "    0.5296610169491526,\n",
    "    0.5272096932343466,\n",
    "    0.5272096932343466,\n",
    "    0.5272096932343466,\n",
    "    0.5247583695195399,\n",
    "    0.5247583695195399,\n",
    "    0.522307045804734,\n",
    "    0.522307045804734,\n",
    "    0.522307045804734,\n",
    "    0.522307045804734,\n",
    "    0.519855722089928,\n",
    "    0.519855722089928,\n",
    "    0.519855722089928,\n",
    "    0.517404398375122,\n",
    "    0.5149530746603161,\n",
    "    0.5125017509455102,\n",
    "    0.5125017509455102,\n",
    "    0.5100504272307043,\n",
    "    0.5100504272307043,\n",
    "    0.5075991035158983,\n",
    "    0.5051477798010924,\n",
    "    0.5051477798010924,\n",
    "    0.5051477798010924,\n",
    "    0.5026964560862865,\n",
    "    0.5026964560862865,\n",
    "    0.5026964560862865,\n",
    "    0.5026964560862865,\n",
    "    0.5002451323714806,\n",
    "    0.5002451323714806,\n",
    "    0.49779380865667455,\n",
    "]\n",
    "\n",
    "d = {\"x\": Operation_level, \"y\": Efficiency}\n",
    "partLoadData = pd.DataFrame(d)\n"
   ]
  },
  {
   "cell_type": "markdown",
   "metadata": {},
   "source": [
    "# 3. Create an energy system model instance \n",
    "\n",
    "The structure of the energy system model is given by the considered locations, commodities, the number of time steps as well as the hours per time step.\n",
    "\n",
    "The commodities are specified by a unit (i.e. 'GW_electric', 'GW_H2lowerHeatingValue', 'Mio. t CO2/h') which can be given as an energy or mass unit per hour. Furthermore, the cost unit and length unit are specified."
   ]
  },
  {
   "cell_type": "code",
   "execution_count": 3,
   "metadata": {},
   "outputs": [],
   "source": [
    "locations = {\"GermanyRegion\"}\n",
    "commodityUnitDict = {\"electricity\": r\"GW$_{el}$\", \"hydrogen\": r\"GW$_{H_{2},LHV}$\"}\n",
    "commodities = {\"electricity\", \"hydrogen\"}\n",
    "numberOfTimeSteps = 168\n",
    "hoursPerTimeStep = 1"
   ]
  },
  {
   "cell_type": "code",
   "execution_count": 4,
   "metadata": {},
   "outputs": [],
   "source": [
    "esM = fn.EnergySystemModel(\n",
    "    locations=locations,\n",
    "    commodities=commodities,\n",
    "    numberOfTimeSteps=numberOfTimeSteps,\n",
    "    commodityUnitsDict=commodityUnitDict,\n",
    "    hoursPerTimeStep=1,\n",
    "    costUnit=\"1e9 Euro\",\n",
    "    lengthUnit=\"km\",\n",
    "    verboseLogLevel=0,\n",
    ")"
   ]
  },
  {
   "cell_type": "markdown",
   "metadata": {},
   "source": [
    "# 4. Add commodity sources to the energy system model"
   ]
  },
  {
   "cell_type": "markdown",
   "metadata": {},
   "source": [
    "## 4.1. Electricity sources"
   ]
  },
  {
   "cell_type": "markdown",
   "metadata": {},
   "source": [
    "### Wind onshore"
   ]
  },
  {
   "cell_type": "code",
   "execution_count": 5,
   "metadata": {
    "scrolled": true
   },
   "outputs": [],
   "source": [
    "esM.add(\n",
    "    fn.Source(\n",
    "        esM=esM,\n",
    "        name=\"Wind (onshore)\",\n",
    "        commodity=\"electricity\",\n",
    "        hasCapacityVariable=True,\n",
    "        operationRateMax=data[\"Wind (onshore), operationRateMax\"][0:numberOfTimeSteps],\n",
    "        capacityMax=data[\"Wind (onshore), capacityMax\"],\n",
    "        investPerCapacity=1.1,\n",
    "        opexPerCapacity=1.1 * 0.02,\n",
    "        interestRate=0.08,\n",
    "        economicLifetime=20,\n",
    "    )\n",
    ")"
   ]
  },
  {
   "cell_type": "markdown",
   "metadata": {},
   "source": [
    "Full load hours:"
   ]
  },
  {
   "cell_type": "code",
   "execution_count": 6,
   "metadata": {
    "editable": true,
    "slideshow": {
     "slide_type": ""
    },
    "tags": [
     "nbval-check-output"
    ]
   },
   "outputs": [
    {
     "data": {
      "text/plain": [
       "2300.4069071646272"
      ]
     },
     "execution_count": 6,
     "metadata": {},
     "output_type": "execute_result"
    }
   ],
   "source": [
    "data[\"Wind (onshore), operationRateMax\"].sum()"
   ]
  },
  {
   "cell_type": "markdown",
   "metadata": {},
   "source": [
    "# 5. Add conversion components to the energy system model"
   ]
  },
  {
   "cell_type": "markdown",
   "metadata": {},
   "source": [
    "### Electrolyzers"
   ]
  },
  {
   "cell_type": "code",
   "execution_count": 7,
   "metadata": {},
   "outputs": [],
   "source": [
    "nSegments = 2 #Define number of segments for the piecewice linearization of the efficiency curve \n",
    "\n",
    "esM.add(\n",
    "    fn.ConversionPartLoad(\n",
    "        esM=esM,\n",
    "        name=\"Electroylzers\",\n",
    "        physicalUnit=r\"GW$_{el}$\",\n",
    "        commodityConversionFactors={\"electricity\": -1, \"hydrogen\": 1},\n",
    "        commodityConversionFactorsPartLoad={\n",
    "            \"electricity\": -1,\n",
    "            \"hydrogen\": partLoadData,\n",
    "        },\n",
    "        nSegments=nSegments,\n",
    "        hasCapacityVariable=True,\n",
    "        bigM=99999,\n",
    "        investPerCapacity=900,\n",
    "        opexPerCapacity=900 * 0.01,\n",
    "        interestRate=0.08,\n",
    "        economicLifetime=10,\n",
    "        hasIsBuiltBinaryVariable=True,\n",
    "    )\n",
    ")"
   ]
  },
  {
   "cell_type": "markdown",
   "metadata": {},
   "source": [
    "# 6. Add commodity storages to the energy system model"
   ]
  },
  {
   "cell_type": "markdown",
   "metadata": {},
   "source": [
    "## 6.1. Electricity storage"
   ]
  },
  {
   "cell_type": "markdown",
   "metadata": {},
   "source": [
    "### Lithium ion batteries\n",
    "\n",
    "The self discharge of a lithium ion battery is here described as 3% per month. The self discharge per hours is obtained using the equation (1-$\\text{selfDischarge}_\\text{hour})^{30*24\\text{h}} = 1-\\text{selfDischarge}_\\text{month}$."
   ]
  },
  {
   "cell_type": "code",
   "execution_count": 8,
   "metadata": {},
   "outputs": [],
   "source": [
    "esM.add(\n",
    "    fn.Storage(\n",
    "        esM=esM,\n",
    "        name=\"Li-ion batteries\",\n",
    "        commodity=\"electricity\",\n",
    "        hasCapacityVariable=True,\n",
    "        chargeEfficiency=0.95,\n",
    "        cyclicLifetime=10000,\n",
    "        dischargeEfficiency=0.95,\n",
    "        selfDischarge=1 - (1 - 0.03) ** (1 / (30 * 24)),\n",
    "        chargeRate=1,\n",
    "        dischargeRate=1,\n",
    "        doPreciseTsaModeling=False,\n",
    "        investPerCapacity=0.151,\n",
    "        opexPerCapacity=0.002,\n",
    "        interestRate=0.08,\n",
    "        economicLifetime=22,\n",
    "    )\n",
    ")"
   ]
  },
  {
   "cell_type": "markdown",
   "metadata": {},
   "source": [
    "## 6.2. Hydrogen storage"
   ]
  },
  {
   "cell_type": "markdown",
   "metadata": {},
   "source": [
    "### Hydrogen filled salt caverns\n",
    "The maximum capacity is here obtained by: dividing the given capacity (which is given for methane) by the lower heating value of methane and then multiplying it with the lower heating value of hydrogen."
   ]
  },
  {
   "cell_type": "code",
   "execution_count": 9,
   "metadata": {},
   "outputs": [],
   "source": [
    "esM.add(\n",
    "    fn.Storage(\n",
    "        esM=esM,\n",
    "        name=\"Salt caverns (hydrogen)\",\n",
    "        commodity=\"hydrogen\",\n",
    "        hasCapacityVariable=True,\n",
    "        capacityVariableDomain=\"continuous\",\n",
    "        capacityPerPlantUnit=133,\n",
    "        chargeRate=1 / 470.37,\n",
    "        dischargeRate=1 / 470.37,\n",
    "        sharedPotentialID=\"Existing salt caverns\",\n",
    "        stateOfChargeMin=0.33,\n",
    "        stateOfChargeMax=1,\n",
    "        capacityMax=data[\"Salt caverns (hydrogen), capacityMax\"],\n",
    "        investPerCapacity=0.00011,\n",
    "        opexPerCapacity=0.00057,\n",
    "        interestRate=0.08,\n",
    "        economicLifetime=30,\n",
    "    )\n",
    ")"
   ]
  },
  {
   "cell_type": "markdown",
   "metadata": {},
   "source": [
    "# 7. Add commodity sinks to the energy system model"
   ]
  },
  {
   "cell_type": "markdown",
   "metadata": {},
   "source": [
    "## 7.2. Hydrogen sinks"
   ]
  },
  {
   "cell_type": "markdown",
   "metadata": {},
   "source": [
    "### Fuel cell electric vehicle (FCEV) demand"
   ]
  },
  {
   "cell_type": "code",
   "execution_count": 10,
   "metadata": {},
   "outputs": [],
   "source": [
    "FCEV_penetration = 3\n",
    "esM.add(\n",
    "    fn.Sink(\n",
    "        esM=esM,\n",
    "        name=\"Hydrogen demand\",\n",
    "        commodity=\"hydrogen\",\n",
    "        hasCapacityVariable=False,\n",
    "        operationRateFix=data[\"Hydrogen demand, operationRateFix\"][0:numberOfTimeSteps] * FCEV_penetration,\n",
    "    )\n",
    ")"
   ]
  },
  {
   "cell_type": "markdown",
   "metadata": {},
   "source": [
    "# 8. Optimize energy system model"
   ]
  },
  {
   "cell_type": "code",
   "execution_count": 11,
   "metadata": {
    "editable": true,
    "scrolled": true,
    "slideshow": {
     "slide_type": ""
    },
    "tags": []
   },
   "outputs": [
    {
     "name": "stdout",
     "output_type": "stream",
     "text": [
      "Declaring sets, variables and constraints for SourceSinkModel\n",
      "\tdeclaring sets... \n",
      "\tdeclaring variables... \n",
      "\tdeclaring constraints... \n",
      "\t\t(0.0363 sec)\n",
      "\n",
      "Declaring sets, variables and constraints for ConversionPartLoadModel\n",
      "\tdeclaring sets... \n",
      "\tdeclaring variables... \n",
      "\tdeclaring constraints... \n",
      "\t\t(0.0263 sec)\n",
      "\n",
      "Declaring sets, variables and constraints for StorageModel\n",
      "\tdeclaring sets... \n",
      "\tdeclaring variables... \n",
      "\tdeclaring constraints... \n",
      "\t\t(0.0249 sec)\n",
      "\n",
      "Declaring shared potential constraint...\n",
      "\t\t(0.0000 sec)\n",
      "\n",
      "Declaring linked component quantity constraint...\n",
      "\t\t(0.0000 sec)\n",
      "\n",
      "Declaring commodity balances...\n",
      "\t\t(0.0092 sec)\n",
      "\n",
      "\t\t(0.0000 sec)\n",
      "\n",
      "Declaring objective function...\n",
      "\t\t(0.1587 sec)\n",
      "\n",
      "GLPSOL--GLPK LP/MIP Solver 5.0\n",
      "Parameter(s) specified in the command line:\n",
      " --write C:\\Users\\T58C8~1.GRO\\AppData\\Local\\Temp\\tmpji4o8a7e.glpk.raw --wglp\n",
      " C:\\Users\\T58C8~1.GRO\\AppData\\Local\\Temp\\tmpxrkzd3l2.glpk.glp --cpxlp C:\\Users\\T58C8~1.GRO\\AppData\\Local\\Temp\\tmpb210kk3l.pyomo.lp\n",
      "Reading problem data from 'C:\\Users\\T58C8~1.GRO\\AppData\\Local\\Temp\\tmpb210kk3l.pyomo.lp'...\n",
      "C:\\Users\\T58C8~1.GRO\\AppData\\Local\\Temp\\tmpb210kk3l.pyomo.lp:24990: warning: lower bound of variable 'x352' redefined\n",
      "C:\\Users\\T58C8~1.GRO\\AppData\\Local\\Temp\\tmpb210kk3l.pyomo.lp:24990: warning: upper bound of variable 'x352' redefined\n",
      "3883 rows, 2707 columns, 10620 non-zeros\n",
      "337 integer variables, all of which are binary\n",
      "25327 lines were read\n",
      "Writing problem data to 'C:\\Users\\T58C8~1.GRO\\AppData\\Local\\Temp\\tmpxrkzd3l2.glpk.glp'...\n",
      "22278 lines were written\n",
      "GLPK Integer Optimizer 5.0\n",
      "3883 rows, 2707 columns, 10620 non-zeros\n",
      "337 integer variables, all of which are binary\n",
      "Preprocessing...\n",
      "3703 rows, 2528 columns, 10261 non-zeros\n",
      "337 integer variables, all of which are binary\n",
      "Scaling...\n",
      " A: min|aij| =  2.126e-03  max|aij| =  1.000e+05  ratio =  4.704e+07\n",
      "GM: min|aij| =  2.701e-01  max|aij| =  3.702e+00  ratio =  1.371e+01\n",
      "EQ: min|aij| =  7.296e-02  max|aij| =  1.000e+00  ratio =  1.371e+01\n",
      "2N: min|aij| =  4.233e-02  max|aij| =  1.560e+00  ratio =  3.684e+01\n",
      "Constructing initial basis...\n",
      "Size of triangular part is 3533\n",
      "Solving LP relaxation...\n",
      "GLPK Simplex Optimizer 5.0\n",
      "3703 rows, 2528 columns, 10261 non-zeros\n",
      "      0: obj =   0.000000000e+00 inf =   6.749e+03 (428)\n",
      "Perturbing LP to avoid stalling [199]...\n",
      "    720: obj =   2.007285159e+04 inf =   1.467e-08 (0) 5\n",
      "Removing LP perturbation [2320]...\n",
      "*  2320: obj =   1.444372704e+03 inf =   8.246e-14 (0) 13\n",
      "OPTIMAL LP SOLUTION FOUND\n",
      "Integer optimization begins...\n",
      "Long-step dual simplex will be used\n",
      "+  2320: mip =     not found yet >=              -inf        (1; 0)\n",
      "+  2344: >>>>>   1.444372742e+03 >=   1.444372704e+03 < 0.1% (13; 0)\n",
      "+  2344: mip =   1.444372742e+03 >=     tree is empty   0.0% (0; 25)\n",
      "INTEGER OPTIMAL SOLUTION FOUND\n",
      "Time used:   0.2 secs\n",
      "Memory used: 6.2 Mb (6543460 bytes)\n",
      "Writing MIP solution to 'C:\\Users\\T58C8~1.GRO\\AppData\\Local\\Temp\\tmpji4o8a7e.glpk.raw'...\n",
      "6599 lines were written\n",
      "\n",
      "Status: ok\n",
      "Termination condition: optimal\n",
      "Statistics: \n",
      "  Branch and bound: \n",
      "    Number of bounded subproblems: 25\n",
      "    Number of created subproblems: 25\n",
      "Error rc: 0\n",
      "Time: 0.32294297218322754\n",
      "\n",
      "\n",
      "Name: unknown\n",
      "Lower bound: 1444.37274233088\n",
      "Upper bound: 1444.37274233088\n",
      "Number of objectives: 1\n",
      "Number of constraints: 3883\n",
      "Number of variables: 2707\n",
      "Number of nonzeros: 10620\n",
      "Sense: minimize\n",
      "\n",
      "Solve time: 0.5451617240905762 sec.\n",
      "\n",
      "Processing optimization output...\n",
      "for SourceSinkModel ...(0.1649sec)\n",
      "for ConversionPartLoadModel ...(0.1207sec)\n",
      "for StorageModel ...  (0.1415sec)\n",
      "\t\t(0.4311 sec)\n",
      "\n"
     ]
    },
    {
     "name": "stderr",
     "output_type": "stream",
     "text": [
      "C:\\Users\\t.gross\\Documents\\Programming\\Jugit\\fine\\fine\\storage.py:1984: UserWarning: Charge and discharge at the same time for component Salt caverns (hydrogen)\n",
      "  warnings.warn(\n"
     ]
    }
   ],
   "source": [
    "esM.optimize(timeSeriesAggregation=False, solver=\"glpk\")"
   ]
  },
  {
   "cell_type": "markdown",
   "metadata": {},
   "source": [
    "# 9. Selected results output"
   ]
  },
  {
   "cell_type": "markdown",
   "metadata": {},
   "source": [
    "### Sources and Sink\n",
    "\n",
    "Show optimization summary"
   ]
  },
  {
   "cell_type": "code",
   "execution_count": 12,
   "metadata": {
    "editable": true,
    "slideshow": {
     "slide_type": ""
    },
    "tags": []
   },
   "outputs": [
    {
     "data": {
      "text/html": [
       "<div>\n",
       "<style scoped>\n",
       "    .dataframe tbody tr th:only-of-type {\n",
       "        vertical-align: middle;\n",
       "    }\n",
       "\n",
       "    .dataframe tbody tr th {\n",
       "        vertical-align: top;\n",
       "    }\n",
       "\n",
       "    .dataframe thead th {\n",
       "        text-align: right;\n",
       "    }\n",
       "</style>\n",
       "<table border=\"1\" class=\"dataframe\">\n",
       "  <thead>\n",
       "    <tr style=\"text-align: right;\">\n",
       "      <th></th>\n",
       "      <th></th>\n",
       "      <th></th>\n",
       "      <th>GermanyRegion</th>\n",
       "    </tr>\n",
       "    <tr>\n",
       "      <th>Component</th>\n",
       "      <th>Property</th>\n",
       "      <th>Unit</th>\n",
       "      <th></th>\n",
       "    </tr>\n",
       "  </thead>\n",
       "  <tbody>\n",
       "    <tr>\n",
       "      <th rowspan=\"2\" valign=\"top\">Hydrogen demand</th>\n",
       "      <th rowspan=\"2\" valign=\"top\">operation</th>\n",
       "      <th>[GW$_{H_{2},LHV}$*h/a]</th>\n",
       "      <td>28588.126857</td>\n",
       "    </tr>\n",
       "    <tr>\n",
       "      <th>[GW$_{H_{2},LHV}$*h]</th>\n",
       "      <td>548.265447</td>\n",
       "    </tr>\n",
       "    <tr>\n",
       "      <th rowspan=\"9\" valign=\"top\">Wind (onshore)</th>\n",
       "      <th>NPVcontribution</th>\n",
       "      <th>[1e9 Euro]</th>\n",
       "      <td>2.210274</td>\n",
       "    </tr>\n",
       "    <tr>\n",
       "      <th>TAC</th>\n",
       "      <th>[1e9 Euro/a]</th>\n",
       "      <td>2.210274</td>\n",
       "    </tr>\n",
       "    <tr>\n",
       "      <th>capacity</th>\n",
       "      <th>[GW$_{el}$]</th>\n",
       "      <td>16.489973</td>\n",
       "    </tr>\n",
       "    <tr>\n",
       "      <th>capexCap</th>\n",
       "      <th>[1e9 Euro/a]</th>\n",
       "      <td>1.847494</td>\n",
       "    </tr>\n",
       "    <tr>\n",
       "      <th>commissioning</th>\n",
       "      <th>[GW$_{el}$]</th>\n",
       "      <td>16.489973</td>\n",
       "    </tr>\n",
       "    <tr>\n",
       "      <th>invest</th>\n",
       "      <th>[1e9 Euro]</th>\n",
       "      <td>18.138971</td>\n",
       "    </tr>\n",
       "    <tr>\n",
       "      <th rowspan=\"2\" valign=\"top\">operation</th>\n",
       "      <th>[GW$_{el}$*h/a]</th>\n",
       "      <td>56346.222875</td>\n",
       "    </tr>\n",
       "    <tr>\n",
       "      <th>[GW$_{el}$*h]</th>\n",
       "      <td>1080.612494</td>\n",
       "    </tr>\n",
       "    <tr>\n",
       "      <th>opexCap</th>\n",
       "      <th>[1e9 Euro/a]</th>\n",
       "      <td>0.362779</td>\n",
       "    </tr>\n",
       "  </tbody>\n",
       "</table>\n",
       "</div>"
      ],
      "text/plain": [
       "                                                       GermanyRegion\n",
       "Component       Property        Unit                                \n",
       "Hydrogen demand operation       [GW$_{H_{2},LHV}$*h/a]  28588.126857\n",
       "                                [GW$_{H_{2},LHV}$*h]      548.265447\n",
       "Wind (onshore)  NPVcontribution [1e9 Euro]                  2.210274\n",
       "                TAC             [1e9 Euro/a]                2.210274\n",
       "                capacity        [GW$_{el}$]                16.489973\n",
       "                capexCap        [1e9 Euro/a]                1.847494\n",
       "                commissioning   [GW$_{el}$]                16.489973\n",
       "                invest          [1e9 Euro]                 18.138971\n",
       "                operation       [GW$_{el}$*h/a]         56346.222875\n",
       "                                [GW$_{el}$*h]            1080.612494\n",
       "                opexCap         [1e9 Euro/a]                0.362779"
      ]
     },
     "execution_count": 12,
     "metadata": {},
     "output_type": "execute_result"
    }
   ],
   "source": [
    "esM.getOptimizationSummary(\"SourceSinkModel\", outputLevel=2)"
   ]
  },
  {
   "cell_type": "markdown",
   "metadata": {},
   "source": [
    "Plot operation time series (either one or two dimensional)"
   ]
  },
  {
   "cell_type": "markdown",
   "metadata": {},
   "source": [
    "### ConversionPartLoad\n",
    "\n",
    "Show optimization summary"
   ]
  },
  {
   "cell_type": "code",
   "execution_count": 13,
   "metadata": {
    "editable": true,
    "slideshow": {
     "slide_type": ""
    },
    "tags": []
   },
   "outputs": [
    {
     "data": {
      "text/html": [
       "<div>\n",
       "<style scoped>\n",
       "    .dataframe tbody tr th:only-of-type {\n",
       "        vertical-align: middle;\n",
       "    }\n",
       "\n",
       "    .dataframe tbody tr th {\n",
       "        vertical-align: top;\n",
       "    }\n",
       "\n",
       "    .dataframe thead th {\n",
       "        text-align: right;\n",
       "    }\n",
       "</style>\n",
       "<table border=\"1\" class=\"dataframe\">\n",
       "  <thead>\n",
       "    <tr style=\"text-align: right;\">\n",
       "      <th></th>\n",
       "      <th></th>\n",
       "      <th></th>\n",
       "      <th>GermanyRegion</th>\n",
       "    </tr>\n",
       "    <tr>\n",
       "      <th>Component</th>\n",
       "      <th>Property</th>\n",
       "      <th>Unit</th>\n",
       "      <th></th>\n",
       "    </tr>\n",
       "  </thead>\n",
       "  <tbody>\n",
       "    <tr>\n",
       "      <th rowspan=\"10\" valign=\"top\">Electroylzers</th>\n",
       "      <th>NPVcontribution</th>\n",
       "      <th>[1e9 Euro]</th>\n",
       "      <td>1441.053417</td>\n",
       "    </tr>\n",
       "    <tr>\n",
       "      <th>TAC</th>\n",
       "      <th>[1e9 Euro/a]</th>\n",
       "      <td>1441.053417</td>\n",
       "    </tr>\n",
       "    <tr>\n",
       "      <th>capacity</th>\n",
       "      <th>[GW$_{el}$]</th>\n",
       "      <td>10.068387</td>\n",
       "    </tr>\n",
       "    <tr>\n",
       "      <th>capexCap</th>\n",
       "      <th>[1e9 Euro/a]</th>\n",
       "      <td>1350.437933</td>\n",
       "    </tr>\n",
       "    <tr>\n",
       "      <th>commissioning</th>\n",
       "      <th>[GW$_{el}$]</th>\n",
       "      <td>10.068387</td>\n",
       "    </tr>\n",
       "    <tr>\n",
       "      <th>invest</th>\n",
       "      <th>[1e9 Euro]</th>\n",
       "      <td>9061.548451</td>\n",
       "    </tr>\n",
       "    <tr>\n",
       "      <th>isBuilt</th>\n",
       "      <th>[-]</th>\n",
       "      <td>1.0</td>\n",
       "    </tr>\n",
       "    <tr>\n",
       "      <th rowspan=\"2\" valign=\"top\">operation</th>\n",
       "      <th>[GW$_{el}$*h/a]</th>\n",
       "      <td>56031.729261</td>\n",
       "    </tr>\n",
       "    <tr>\n",
       "      <th>[GW$_{el}$*h]</th>\n",
       "      <td>1074.581109</td>\n",
       "    </tr>\n",
       "    <tr>\n",
       "      <th>opexCap</th>\n",
       "      <th>[1e9 Euro/a]</th>\n",
       "      <td>90.615485</td>\n",
       "    </tr>\n",
       "  </tbody>\n",
       "</table>\n",
       "</div>"
      ],
      "text/plain": [
       "                                              GermanyRegion\n",
       "Component     Property        Unit                         \n",
       "Electroylzers NPVcontribution [1e9 Euro]        1441.053417\n",
       "              TAC             [1e9 Euro/a]      1441.053417\n",
       "              capacity        [GW$_{el}$]         10.068387\n",
       "              capexCap        [1e9 Euro/a]      1350.437933\n",
       "              commissioning   [GW$_{el}$]         10.068387\n",
       "              invest          [1e9 Euro]        9061.548451\n",
       "              isBuilt         [-]                       1.0\n",
       "              operation       [GW$_{el}$*h/a]  56031.729261\n",
       "                              [GW$_{el}$*h]     1074.581109\n",
       "              opexCap         [1e9 Euro/a]        90.615485"
      ]
     },
     "execution_count": 13,
     "metadata": {},
     "output_type": "execute_result"
    }
   ],
   "source": [
    "esM.getOptimizationSummary(\"ConversionPartLoadModel\", outputLevel=2)"
   ]
  },
  {
   "cell_type": "markdown",
   "metadata": {},
   "source": [
    "Show operation time-series"
   ]
  },
  {
   "cell_type": "markdown",
   "metadata": {},
   "source": [
    "Show operation color map"
   ]
  },
  {
   "cell_type": "markdown",
   "metadata": {},
   "source": [
    "### Storage\n",
    "\n",
    "Show optimization summary"
   ]
  },
  {
   "cell_type": "code",
   "execution_count": 14,
   "metadata": {
    "editable": true,
    "slideshow": {
     "slide_type": ""
    },
    "tags": []
   },
   "outputs": [
    {
     "data": {
      "text/html": [
       "<div>\n",
       "<style scoped>\n",
       "    .dataframe tbody tr th:only-of-type {\n",
       "        vertical-align: middle;\n",
       "    }\n",
       "\n",
       "    .dataframe tbody tr th {\n",
       "        vertical-align: top;\n",
       "    }\n",
       "\n",
       "    .dataframe thead th {\n",
       "        text-align: right;\n",
       "    }\n",
       "</style>\n",
       "<table border=\"1\" class=\"dataframe\">\n",
       "  <thead>\n",
       "    <tr style=\"text-align: right;\">\n",
       "      <th></th>\n",
       "      <th></th>\n",
       "      <th></th>\n",
       "      <th>GermanyRegion</th>\n",
       "    </tr>\n",
       "    <tr>\n",
       "      <th>Component</th>\n",
       "      <th>Property</th>\n",
       "      <th>Unit</th>\n",
       "      <th></th>\n",
       "    </tr>\n",
       "  </thead>\n",
       "  <tbody>\n",
       "    <tr>\n",
       "      <th rowspan=\"11\" valign=\"top\">Li-ion batteries</th>\n",
       "      <th>NPVcontribution</th>\n",
       "      <th>[1e9 Euro]</th>\n",
       "      <td>0.392909</td>\n",
       "    </tr>\n",
       "    <tr>\n",
       "      <th>TAC</th>\n",
       "      <th>[1e9 Euro/a]</th>\n",
       "      <td>0.392909</td>\n",
       "    </tr>\n",
       "    <tr>\n",
       "      <th>capacity</th>\n",
       "      <th>[GW$_{el}$*h]</th>\n",
       "      <td>23.383494</td>\n",
       "    </tr>\n",
       "    <tr>\n",
       "      <th>capexCap</th>\n",
       "      <th>[1e9 Euro/a]</th>\n",
       "      <td>0.346142</td>\n",
       "    </tr>\n",
       "    <tr>\n",
       "      <th>commissioning</th>\n",
       "      <th>[GW$_{el}$*h]</th>\n",
       "      <td>23.383494</td>\n",
       "    </tr>\n",
       "    <tr>\n",
       "      <th>invest</th>\n",
       "      <th>[1e9 Euro]</th>\n",
       "      <td>3.530908</td>\n",
       "    </tr>\n",
       "    <tr>\n",
       "      <th rowspan=\"2\" valign=\"top\">operationCharge</th>\n",
       "      <th>[GW$_{el}$*h/a]</th>\n",
       "      <td>3205.356143</td>\n",
       "    </tr>\n",
       "    <tr>\n",
       "      <th>[GW$_{el}$*h]</th>\n",
       "      <td>61.472584</td>\n",
       "    </tr>\n",
       "    <tr>\n",
       "      <th rowspan=\"2\" valign=\"top\">operationDischarge</th>\n",
       "      <th>[GW$_{el}$*h/a]</th>\n",
       "      <td>55.441199</td>\n",
       "    </tr>\n",
       "    <tr>\n",
       "      <th>[GW$_{el}$*h]</th>\n",
       "      <td>55.441199</td>\n",
       "    </tr>\n",
       "    <tr>\n",
       "      <th>opexCap</th>\n",
       "      <th>[1e9 Euro/a]</th>\n",
       "      <td>0.046767</td>\n",
       "    </tr>\n",
       "    <tr>\n",
       "      <th rowspan=\"11\" valign=\"top\">Salt caverns (hydrogen)</th>\n",
       "      <th>NPVcontribution</th>\n",
       "      <th>[1e9 Euro]</th>\n",
       "      <td>0.716143</td>\n",
       "    </tr>\n",
       "    <tr>\n",
       "      <th>TAC</th>\n",
       "      <th>[1e9 Euro/a]</th>\n",
       "      <td>0.716143</td>\n",
       "    </tr>\n",
       "    <tr>\n",
       "      <th>capacity</th>\n",
       "      <th>[GW$_{H_{2},LHV}$*h]</th>\n",
       "      <td>1235.216115</td>\n",
       "    </tr>\n",
       "    <tr>\n",
       "      <th>capexCap</th>\n",
       "      <th>[1e9 Euro/a]</th>\n",
       "      <td>0.012069</td>\n",
       "    </tr>\n",
       "    <tr>\n",
       "      <th>commissioning</th>\n",
       "      <th>[GW$_{H_{2},LHV}$*h]</th>\n",
       "      <td>1235.216115</td>\n",
       "    </tr>\n",
       "    <tr>\n",
       "      <th>invest</th>\n",
       "      <th>[1e9 Euro]</th>\n",
       "      <td>0.135874</td>\n",
       "    </tr>\n",
       "    <tr>\n",
       "      <th rowspan=\"2\" valign=\"top\">operationCharge</th>\n",
       "      <th>[GW$_{H_{2},LHV}$*h/a]</th>\n",
       "      <td>9801.382275</td>\n",
       "    </tr>\n",
       "    <tr>\n",
       "      <th>[GW$_{H_{2},LHV}$*h]</th>\n",
       "      <td>187.971715</td>\n",
       "    </tr>\n",
       "    <tr>\n",
       "      <th rowspan=\"2\" valign=\"top\">operationDischarge</th>\n",
       "      <th>[GW$_{H_{2},LHV}$*h/a]</th>\n",
       "      <td>187.971715</td>\n",
       "    </tr>\n",
       "    <tr>\n",
       "      <th>[GW$_{H_{2},LHV}$*h]</th>\n",
       "      <td>187.971715</td>\n",
       "    </tr>\n",
       "    <tr>\n",
       "      <th>opexCap</th>\n",
       "      <th>[1e9 Euro/a]</th>\n",
       "      <td>0.704073</td>\n",
       "    </tr>\n",
       "  </tbody>\n",
       "</table>\n",
       "</div>"
      ],
      "text/plain": [
       "                                                                  GermanyRegion\n",
       "Component               Property           Unit                                \n",
       "Li-ion batteries        NPVcontribution    [1e9 Euro]                  0.392909\n",
       "                        TAC                [1e9 Euro/a]                0.392909\n",
       "                        capacity           [GW$_{el}$*h]              23.383494\n",
       "                        capexCap           [1e9 Euro/a]                0.346142\n",
       "                        commissioning      [GW$_{el}$*h]              23.383494\n",
       "                        invest             [1e9 Euro]                  3.530908\n",
       "                        operationCharge    [GW$_{el}$*h/a]          3205.356143\n",
       "                                           [GW$_{el}$*h]              61.472584\n",
       "                        operationDischarge [GW$_{el}$*h/a]            55.441199\n",
       "                                           [GW$_{el}$*h]              55.441199\n",
       "                        opexCap            [1e9 Euro/a]                0.046767\n",
       "Salt caverns (hydrogen) NPVcontribution    [1e9 Euro]                  0.716143\n",
       "                        TAC                [1e9 Euro/a]                0.716143\n",
       "                        capacity           [GW$_{H_{2},LHV}$*h]     1235.216115\n",
       "                        capexCap           [1e9 Euro/a]                0.012069\n",
       "                        commissioning      [GW$_{H_{2},LHV}$*h]     1235.216115\n",
       "                        invest             [1e9 Euro]                  0.135874\n",
       "                        operationCharge    [GW$_{H_{2},LHV}$*h/a]   9801.382275\n",
       "                                           [GW$_{H_{2},LHV}$*h]      187.971715\n",
       "                        operationDischarge [GW$_{H_{2},LHV}$*h/a]    187.971715\n",
       "                                           [GW$_{H_{2},LHV}$*h]      187.971715\n",
       "                        opexCap            [1e9 Euro/a]                0.704073"
      ]
     },
     "execution_count": 14,
     "metadata": {},
     "output_type": "execute_result"
    }
   ],
   "source": [
    "esM.getOptimizationSummary(\"StorageModel\", outputLevel=2)"
   ]
  },
  {
   "cell_type": "markdown",
   "metadata": {},
   "source": [
    "Show battery storage color map "
   ]
  },
  {
   "cell_type": "code",
   "execution_count": 15,
   "metadata": {
    "editable": true,
    "slideshow": {
     "slide_type": ""
    },
    "tags": []
   },
   "outputs": [
    {
     "data": {
      "image/png": "[encoded data removed]",
      "text/plain": [
       "<Figure size 1200x400 with 2 Axes>"
      ]
     },
     "metadata": {},
     "output_type": "display_data"
    }
   ],
   "source": [
    "nbPeriods = int(numberOfTimeSteps/24)\n",
    "\n",
    "fig, ax = fn.plotOperationColorMap(\n",
    "    esM,\n",
    "    \"Li-ion batteries\",\n",
    "    \"GermanyRegion\",\n",
    "    variableName=\"stateOfChargeOperationVariablesOptimum\", nbPeriods=nbPeriods,\n",
    ")"
   ]
  },
  {
   "cell_type": "markdown",
   "metadata": {},
   "source": [
    "Show hydrogen storage color map "
   ]
  },
  {
   "cell_type": "code",
   "execution_count": 16,
   "metadata": {
    "editable": true,
    "slideshow": {
     "slide_type": ""
    },
    "tags": []
   },
   "outputs": [
    {
     "data": {
      "image/png": "[encoded data removed]",
      "text/plain": [
       "<Figure size 1200x400 with 2 Axes>"
      ]
     },
     "metadata": {},
     "output_type": "display_data"
    }
   ],
   "source": [
    "fig, ax = fn.plotOperationColorMap(\n",
    "    esM,\n",
    "    \"Salt caverns (hydrogen)\",\n",
    "    \"GermanyRegion\",\n",
    "    variableName=\"stateOfChargeOperationVariablesOptimum\",nbPeriods=nbPeriods,\n",
    ")"
   ]
  }
 ],
 "metadata": {
  "anaconda-cloud": {},
  "jupytext": {
   "formats": "ipynb,py:percent",
   "notebook_metadata_filter": "-all"
  },
  "kernelspec": {
   "display_name": "Python 3 (ipykernel)",
   "language": "python",
   "name": "python3"
  },
  "language_info": {
   "codemirror_mode": {
    "name": "ipython",
    "version": 3
   },
   "file_extension": ".py",
   "mimetype": "text/x-python",
   "name": "python",
   "nbconvert_exporter": "python",
   "pygments_lexer": "ipython3",
   "version": "3.10.13"
  }
 },
 "nbformat": 4,
 "nbformat_minor": 4
}
